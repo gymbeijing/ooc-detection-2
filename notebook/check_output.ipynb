{
 "cells": [
  {
   "cell_type": "code",
   "execution_count": 35,
   "id": "7c97c33a",
   "metadata": {},
   "outputs": [],
   "source": [
    "import torch\n",
    "import pandas as pd\n",
    "from torch import nn"
   ]
  },
  {
   "cell_type": "code",
   "execution_count": 2,
   "id": "8b568d50",
   "metadata": {},
   "outputs": [],
   "source": [
    "def load_tensor(filepath):\n",
    "    tensor = torch.load(filepath)\n",
    "    return tensor"
   ]
  },
  {
   "cell_type": "code",
   "execution_count": 4,
   "id": "9ab51897",
   "metadata": {},
   "outputs": [],
   "source": [
    "root_dir = '/import/network-temp/yimengg/data/'\n",
    "base_model = 'blip-2'\n",
    "few_shot_topic = 'military'\n",
    "epoch = 9"
   ]
  },
  {
   "cell_type": "code",
   "execution_count": null,
   "id": "69490d33",
   "metadata": {},
   "outputs": [],
   "source": [
    "test_pred_few_shot_on_military = load_tensor(root_dir + f'twitter-comms/processed_data/tensor/{base_model}_test_pred_fs_{few_shot_topic}_epoch_{epoch}.pt')\n",
    "test_true = load_tensor(root_dir + f'twitter-comms/processed_data/tensor/{base_model}_test_true_fs_{few_shot_topic}_epoch_{epoch}.pt')\n",
    "\n",
    "assert test_pred_few_shot_on_military.shape == torch.Size([22082, 2])\n",
    "assert test_true.shape == torch.Size([22082])\n",
    "\n",
    "test_pred_full_train = load_tensor(root_dir + f'twitter-comms/processed_data/tensor/{base_model}_test_pred_fs_None_epoch_{epoch}.pt')"
   ]
  },
  {
   "cell_type": "code",
   "execution_count": 11,
   "id": "65c62f6e",
   "metadata": {},
   "outputs": [],
   "source": [
    "feather_path = '../raw_data/val_completed_exist.feather'\n",
    "\n",
    "df = pd.read_feather(feather_path)"
   ]
  },
  {
   "cell_type": "code",
   "execution_count": null,
   "id": "c2e7f5d1",
   "metadata": {},
   "outputs": [],
   "source": [
    "df['is_military'] = df['topic'].apply(lambda topic: 'military' in topic)\n",
    "row_excluded = df[df[\"is_military\"] == True].index"
   ]
  },
  {
   "cell_type": "code",
   "execution_count": 86,
   "id": "84312de9",
   "metadata": {},
   "outputs": [
    {
     "name": "stdout",
     "output_type": "stream",
     "text": [
      "Int64Index([14944, 14945, 14946, 14947, 14948, 14949, 14950, 14951, 14952,\n",
      "            14953,\n",
      "            ...\n",
      "            22072, 22073, 22074, 22075, 22076, 22077, 22078, 22079, 22080,\n",
      "            22081],\n",
      "           dtype='int64', length=7138)\n"
     ]
    }
   ],
   "source": [
    "print(row_excluded)   # elements in row_excluded are indices of the dataframe"
   ]
  },
  {
   "cell_type": "code",
   "execution_count": 34,
   "id": "c2c34c2c",
   "metadata": {},
   "outputs": [
    {
     "name": "stdout",
     "output_type": "stream",
     "text": [
      "few shot on military:\n",
      "tensor([[0.9401, 0.0599],\n",
      "        [0.9401, 0.0599],\n",
      "        [0.0844, 0.9156],\n",
      "        [0.8804, 0.1196],\n",
      "        [0.9571, 0.0429],\n",
      "        [0.9252, 0.0748],\n",
      "        [0.9252, 0.0748],\n",
      "        [0.4426, 0.5574],\n",
      "        [0.5611, 0.4389],\n",
      "        [0.9801, 0.0199]], device='cuda:0')\n",
      "full train:\n",
      "tensor([[0.5814, 0.4186],\n",
      "        [0.5814, 0.4186],\n",
      "        [0.0624, 0.9376],\n",
      "        [0.4702, 0.5298],\n",
      "        [0.6837, 0.3163],\n",
      "        [0.6671, 0.3329],\n",
      "        [0.6671, 0.3329],\n",
      "        [0.3372, 0.6628],\n",
      "        [0.2761, 0.7239],\n",
      "        [0.8873, 0.1127]], device='cuda:0')\n",
      "ground true:\n",
      "tensor([0, 0, 1, 1, 1, 0, 0, 1, 1, 0])\n"
     ]
    }
   ],
   "source": [
    "idx = 14952\n",
    "print(\"few shot on military:\")\n",
    "print(test_pred_few_shot_on_military[row_excluded[20:30], :])\n",
    "print(\"full train:\")\n",
    "print(test_pred_full_train[row_excluded[20:30], :])\n",
    "print(\"ground true:\")\n",
    "print(test_true[row_excluded[20:30]])"
   ]
  },
  {
   "cell_type": "code",
   "execution_count": 40,
   "id": "b51a9277",
   "metadata": {},
   "outputs": [],
   "source": [
    "label_pred_few_shot_on_military = torch.zeros_like(test_true)\n",
    "\n",
    "label_pred_few_shot_on_military[test_pred_few_shot_on_military[:, 1] >= 0.5] = 1"
   ]
  },
  {
   "cell_type": "code",
   "execution_count": 53,
   "id": "a666422a",
   "metadata": {},
   "outputs": [],
   "source": [
    "misclassified_indices_few_shot_on_military = (((label_pred_few_shot_on_military[row_excluded] == test_true[row_excluded])==False).nonzero(as_tuple=True)[0])"
   ]
  },
  {
   "cell_type": "code",
   "execution_count": 50,
   "id": "de4876ca",
   "metadata": {},
   "outputs": [],
   "source": [
    "label_pred_full_train = torch.zeros_like(test_true)\n",
    "\n",
    "label_pred_full_train[test_pred_full_train[:, 1] >= 0.5] = 1"
   ]
  },
  {
   "cell_type": "code",
   "execution_count": 54,
   "id": "3aa1ce66",
   "metadata": {},
   "outputs": [],
   "source": [
    "misclassified_indices_full_train = (((label_pred_full_train[row_excluded] == test_true[row_excluded])==False).nonzero(as_tuple=True)[0])"
   ]
  },
  {
   "cell_type": "code",
   "execution_count": null,
   "id": "971b9cf3",
   "metadata": {},
   "outputs": [],
   "source": [
    "misclassified_indices_set_few_shot_on_military = set(misclassified_indices_few_shot_on_military.tolist())   # 1961"
   ]
  },
  {
   "cell_type": "code",
   "execution_count": 64,
   "id": "7c7ef670",
   "metadata": {},
   "outputs": [
    {
     "name": "stdout",
     "output_type": "stream",
     "text": [
      "1961\n"
     ]
    }
   ],
   "source": [
    "print(len(misclassified_indices_set_few_shot_on_military))"
   ]
  },
  {
   "cell_type": "code",
   "execution_count": 61,
   "id": "36285406",
   "metadata": {},
   "outputs": [],
   "source": [
    "misclassified_indices_set_full_train = set(misclassified_indices_full_train.tolist())   # 1367"
   ]
  },
  {
   "cell_type": "code",
   "execution_count": 65,
   "id": "faed3702",
   "metadata": {},
   "outputs": [
    {
     "name": "stdout",
     "output_type": "stream",
     "text": [
      "1367\n"
     ]
    }
   ],
   "source": [
    "print(len(misclassified_indices_set_full_train))"
   ]
  },
  {
   "cell_type": "code",
   "execution_count": 70,
   "id": "b04ba9cb",
   "metadata": {},
   "outputs": [],
   "source": [
    "few_shot_diff = misclassified_indices_set_few_shot_on_military.difference(misclassified_indices_set_full_train)   # 1052"
   ]
  },
  {
   "cell_type": "code",
   "execution_count": 71,
   "id": "e584d393",
   "metadata": {},
   "outputs": [],
   "source": [
    "union = misclassified_indices_set_few_shot_on_military.union(misclassified_indices_set_full_train)   # 2419"
   ]
  },
  {
   "cell_type": "code",
   "execution_count": 72,
   "id": "cf1eff45",
   "metadata": {},
   "outputs": [],
   "source": [
    "intersection = misclassified_indices_set_few_shot_on_military.intersection(misclassified_indices_set_full_train)   # 909"
   ]
  },
  {
   "cell_type": "code",
   "execution_count": 75,
   "id": "3baa6f7c",
   "metadata": {},
   "outputs": [
    {
     "data": {
      "text/plain": [
       "tensor([2048, 4097,    4,  ..., 4092, 4093, 2047])"
      ]
     },
     "execution_count": 75,
     "metadata": {},
     "output_type": "execute_result"
    }
   ],
   "source": [
    "torch.tensor(list(few_shot_diff))"
   ]
  },
  {
   "cell_type": "code",
   "execution_count": 80,
   "id": "11929c36",
   "metadata": {},
   "outputs": [
    {
     "name": "stdout",
     "output_type": "stream",
     "text": [
      "few shot on military:\n",
      "tensor([0.8388, 0.1612], device='cuda:0')\n",
      "full train:\n",
      "tensor([0.3583, 0.6417], device='cuda:0')\n",
      "ground true:\n",
      "tensor(1)\n"
     ]
    }
   ],
   "source": [
    "idx = 4093\n",
    "print(\"few shot on military:\")\n",
    "print(test_pred_few_shot_on_military[row_excluded[idx], :])\n",
    "print(\"full train:\")\n",
    "print(test_pred_full_train[row_excluded[idx], :])\n",
    "print(\"ground true:\")\n",
    "print(test_true[row_excluded[idx]])"
   ]
  },
  {
   "cell_type": "code",
   "execution_count": 83,
   "id": "b285e289",
   "metadata": {},
   "outputs": [
    {
     "data": {
      "text/plain": [
       "id                                           1277028418719232001\n",
       "full_text      US fighter jets intercept Russian military air...\n",
       "image_id                                     1027023012372066304\n",
       "filename          69/1027023012372066304-1027023010429984769.jpg\n",
       "falsified                                                   True\n",
       "topic                                              military_hard\n",
       "exists                                                      True\n",
       "is_military                                                 True\n",
       "Name: 19037, dtype: object"
      ]
     },
     "execution_count": 83,
     "metadata": {},
     "output_type": "execute_result"
    }
   ],
   "source": [
    "df.iloc[row_excluded[idx]]"
   ]
  },
  {
   "cell_type": "code",
   "execution_count": null,
   "id": "ba1c8f02",
   "metadata": {},
   "outputs": [],
   "source": []
  }
 ],
 "metadata": {
  "kernelspec": {
   "display_name": "Python 3 (ipykernel)",
   "language": "python",
   "name": "python3"
  },
  "language_info": {
   "codemirror_mode": {
    "name": "ipython",
    "version": 3
   },
   "file_extension": ".py",
   "mimetype": "text/x-python",
   "name": "python",
   "nbconvert_exporter": "python",
   "pygments_lexer": "ipython3",
   "version": "3.7.7"
  }
 },
 "nbformat": 4,
 "nbformat_minor": 5
}
