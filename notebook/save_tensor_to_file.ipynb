{
 "cells": [
  {
   "cell_type": "code",
   "execution_count": 27,
   "id": "cb382e73",
   "metadata": {},
   "outputs": [],
   "source": [
    "import torch\n",
    "from PIL import Image\n",
    "import requests\n",
    "from lavis.models import load_model_and_preprocess\n",
    "\n",
    "from torch import nn\n",
    "import pandas as pd\n",
    "import os\n",
    "\n",
    "from tqdm import tqdm\n",
    "\n",
    "from sklearn.metrics import classification_report\n",
    "import json\n",
    "from nltk.tokenize import TweetTokenizer\n",
    "import re, string\n",
    "import numpy as np"
   ]
  },
  {
   "cell_type": "code",
   "execution_count": 4,
   "id": "d58b6530",
   "metadata": {},
   "outputs": [],
   "source": [
    "df_val = pd.read_csv('../data/val_completed.csv', index_col=0)"
   ]
  },
  {
   "cell_type": "markdown",
   "id": "c9021f6d",
   "metadata": {},
   "source": [
    "# Load the model"
   ]
  },
  {
   "cell_type": "code",
   "execution_count": 2,
   "id": "b24fa9d6",
   "metadata": {},
   "outputs": [],
   "source": [
    "# setup device to use\n",
    "device = torch.device(\"cuda\") if torch.cuda.is_available() else \"cpu\""
   ]
  },
  {
   "cell_type": "code",
   "execution_count": 3,
   "id": "9beba638",
   "metadata": {},
   "outputs": [],
   "source": [
    "# model, vis_processors, txt_processors = load_model_and_preprocess(\n",
    "#     name = \"blip_feature_extractor\", model_type=\"base\", is_eval=True, device=device\n",
    "# )\n",
    "\n",
    "model, vis_processors, text_processors = load_model_and_preprocess(\n",
    "    \"blip2_image_text_matching\", \"pretrain\", device=device, is_eval=True)"
   ]
  },
  {
   "cell_type": "code",
   "execution_count": 21,
   "id": "d3a513ad",
   "metadata": {},
   "outputs": [],
   "source": [
    "tt = TweetTokenizer()"
   ]
  },
  {
   "cell_type": "code",
   "execution_count": 23,
   "id": "a55451ba",
   "metadata": {},
   "outputs": [],
   "source": [
    "def remove_URL(text):\n",
    "    \"\"\"Remove URLs from a sample string\"\"\"\n",
    "    return re.sub(r\"http\\S+\", '', text)\n",
    "    \n",
    "def remove_punc(text):\n",
    "    \"\"\"Remove punctuation from a sample string\"\"\"\n",
    "    return re.sub(r'[^\\w\\s]', '', text)"
   ]
  },
  {
   "cell_type": "code",
   "execution_count": 29,
   "id": "4dc1c807",
   "metadata": {},
   "outputs": [],
   "source": [
    "img_dir='/import/network-temp/yimengg/data/twitter-comms/images/val_images/val_tweet_image_ids'"
   ]
  },
  {
   "cell_type": "code",
   "execution_count": 37,
   "id": "7e1f93dd",
   "metadata": {},
   "outputs": [
    {
     "data": {
      "text/html": [
       "<div>\n",
       "<style scoped>\n",
       "    .dataframe tbody tr th:only-of-type {\n",
       "        vertical-align: middle;\n",
       "    }\n",
       "\n",
       "    .dataframe tbody tr th {\n",
       "        vertical-align: top;\n",
       "    }\n",
       "\n",
       "    .dataframe thead th {\n",
       "        text-align: right;\n",
       "    }\n",
       "</style>\n",
       "<table border=\"1\" class=\"dataframe\">\n",
       "  <thead>\n",
       "    <tr style=\"text-align: right;\">\n",
       "      <th></th>\n",
       "      <th>id</th>\n",
       "      <th>full_text</th>\n",
       "      <th>image_id</th>\n",
       "      <th>filename</th>\n",
       "      <th>falsified</th>\n",
       "      <th>topic</th>\n",
       "    </tr>\n",
       "  </thead>\n",
       "  <tbody>\n",
       "    <tr>\n",
       "      <th>0</th>\n",
       "      <td>1422180237341777922</td>\n",
       "      <td>As #COP26 approaches, how does the UK plan to ...</td>\n",
       "      <td>1422180237341777922</td>\n",
       "      <td>40/1422180237341777922-1422180234313584640.jpg</td>\n",
       "      <td>False</td>\n",
       "      <td>climate_hard</td>\n",
       "    </tr>\n",
       "    <tr>\n",
       "      <th>1</th>\n",
       "      <td>1422180237341777922</td>\n",
       "      <td>As #COP26 approaches, how does the UK plan to ...</td>\n",
       "      <td>1422180237341777922</td>\n",
       "      <td>40/1422180237341777922-1422180234313584640.jpg</td>\n",
       "      <td>False</td>\n",
       "      <td>climate_random</td>\n",
       "    </tr>\n",
       "    <tr>\n",
       "      <th>2</th>\n",
       "      <td>1399648514079141894</td>\n",
       "      <td>Devil Facial corruption, climate change, fight...</td>\n",
       "      <td>1422180237341777922</td>\n",
       "      <td>40/1422180237341777922-1422180234313584640.jpg</td>\n",
       "      <td>True</td>\n",
       "      <td>climate_hard</td>\n",
       "    </tr>\n",
       "    <tr>\n",
       "      <th>3</th>\n",
       "      <td>1407719137917419529</td>\n",
       "      <td>Almost 20% of Canada’s greenhouse gas emission...</td>\n",
       "      <td>1422180237341777922</td>\n",
       "      <td>40/1422180237341777922-1422180234313584640.jpg</td>\n",
       "      <td>True</td>\n",
       "      <td>climate_random</td>\n",
       "    </tr>\n",
       "    <tr>\n",
       "      <th>4</th>\n",
       "      <td>1422180237341777922</td>\n",
       "      <td>As #COP26 approaches, how does the UK plan to ...</td>\n",
       "      <td>1424685512753885201</td>\n",
       "      <td>49/1424685512753885201-1424685510971244549.jpg</td>\n",
       "      <td>True</td>\n",
       "      <td>climate_hard</td>\n",
       "    </tr>\n",
       "  </tbody>\n",
       "</table>\n",
       "</div>"
      ],
      "text/plain": [
       "                    id                                          full_text  \\\n",
       "0  1422180237341777922  As #COP26 approaches, how does the UK plan to ...   \n",
       "1  1422180237341777922  As #COP26 approaches, how does the UK plan to ...   \n",
       "2  1399648514079141894  Devil Facial corruption, climate change, fight...   \n",
       "3  1407719137917419529  Almost 20% of Canada’s greenhouse gas emission...   \n",
       "4  1422180237341777922  As #COP26 approaches, how does the UK plan to ...   \n",
       "\n",
       "              image_id                                        filename  \\\n",
       "0  1422180237341777922  40/1422180237341777922-1422180234313584640.jpg   \n",
       "1  1422180237341777922  40/1422180237341777922-1422180234313584640.jpg   \n",
       "2  1422180237341777922  40/1422180237341777922-1422180234313584640.jpg   \n",
       "3  1422180237341777922  40/1422180237341777922-1422180234313584640.jpg   \n",
       "4  1424685512753885201  49/1424685512753885201-1424685510971244549.jpg   \n",
       "\n",
       "   falsified           topic  \n",
       "0      False    climate_hard  \n",
       "1      False  climate_random  \n",
       "2       True    climate_hard  \n",
       "3       True  climate_random  \n",
       "4       True    climate_hard  "
      ]
     },
     "execution_count": 37,
     "metadata": {},
     "output_type": "execute_result"
    }
   ],
   "source": [
    "df_val.head()"
   ]
  },
  {
   "cell_type": "markdown",
   "id": "292340de",
   "metadata": {},
   "source": [
    "# Save tensors"
   ]
  },
  {
   "cell_type": "code",
   "execution_count": 39,
   "id": "90aceb4e",
   "metadata": {},
   "outputs": [
    {
     "name": "stdout",
     "output_type": "stream",
     "text": [
      "/import/network-temp/yimengg/data/twitter-comms/images/val_images/val_tweet_image_ids/40/1422180237341777922-1422180234313584640.pt\n"
     ]
    }
   ],
   "source": [
    "for idx, row in df_val.head(1).iterrows():\n",
    "    item = df_val.iloc[idx]\n",
    "    caption = item['full_text']\n",
    "    caption = ' '.join(tt.tokenize(caption))\n",
    "    caption = remove_punc(remove_URL(caption))\n",
    "        \n",
    "    img_filename = item['filename']\n",
    "    topic = item['topic']\n",
    "    falsified = int(item['falsified'])\n",
    "    not_falsified = float(not item['falsified'])\n",
    "    label = np.array(falsified)\n",
    "    domain = topic.split('_')[0]\n",
    "    diff = topic.split('_')[1]\n",
    "        \n",
    "    raw_image = Image.open(os.path.join(img_dir, img_filename)).convert('RGB')\n",
    "    image = vis_processors[\"eval\"](raw_image).unsqueeze(0).to(device)\n",
    "    text_input = text_processors[\"eval\"](caption)\n",
    "    sample = {\"image\": image, \"text_input\": [text_input]}   # image shape: [1, 3, 224, 224]\n",
    "\n",
    "    features_multimodal = model.extract_features(sample, mode=\"multimodal\")   # [1, 32, 768] ??? image and text might mismatch\n",
    "    multimodal_emb = features_multimodal.multimodal_embeds[:, 0, :]   # [1, 768]\n",
    "    tensor_filename = img_filename.split('.')[0] + '.pt'\n",
    "    \n",
    "#     print(os.path.join(img_dir, tensor_filename))\n",
    "\n",
    "#     torch.save(multimodal_emb, 'tensor.pt')"
   ]
  },
  {
   "cell_type": "code",
   "execution_count": null,
   "id": "277837c0",
   "metadata": {},
   "outputs": [],
   "source": [
    "torch.load('tensor.pt')"
   ]
  },
  {
   "cell_type": "code",
   "execution_count": null,
   "id": "e9383e7d",
   "metadata": {},
   "outputs": [],
   "source": []
  }
 ],
 "metadata": {
  "kernelspec": {
   "display_name": "Python 3 (ipykernel)",
   "language": "python",
   "name": "python3"
  },
  "language_info": {
   "codemirror_mode": {
    "name": "ipython",
    "version": 3
   },
   "file_extension": ".py",
   "mimetype": "text/x-python",
   "name": "python",
   "nbconvert_exporter": "python",
   "pygments_lexer": "ipython3",
   "version": "3.7.7"
  }
 },
 "nbformat": 4,
 "nbformat_minor": 5
}
