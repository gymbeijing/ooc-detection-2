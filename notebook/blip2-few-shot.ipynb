{
 "cells": [
  {
   "cell_type": "code",
   "execution_count": 1,
   "id": "b8536a36",
   "metadata": {},
   "outputs": [
    {
     "name": "stderr",
     "output_type": "stream",
     "text": [
      "/homes/yg007/nytimes_project/venv_nyc/lib/python3.7/site-packages/tqdm/auto.py:22: TqdmWarning: IProgress not found. Please update jupyter and ipywidgets. See https://ipywidgets.readthedocs.io/en/stable/user_install.html\n",
      "  from .autonotebook import tqdm as notebook_tqdm\n"
     ]
    }
   ],
   "source": [
    "import torch\n",
    "from PIL import Image\n",
    "import requests\n",
    "from lavis.models import load_model_and_preprocess\n",
    "\n",
    "from torch import nn\n",
    "import pandas as pd\n",
    "import os\n",
    "\n",
    "from tqdm.auto import tqdm, trange\n",
    "\n",
    "from sklearn.metrics import classification_report\n",
    "import json\n",
    "\n",
    "from torch.utils.data import Dataset\n",
    "import torch.utils.data as data\n",
    "from torch import optim\n",
    "from torch.autograd import Variable\n",
    "import numpy as np"
   ]
  },
  {
   "cell_type": "code",
   "execution_count": 11,
   "id": "5dd2c875",
   "metadata": {},
   "outputs": [],
   "source": [
    "from lavis.models import model_zoo"
   ]
  },
  {
   "cell_type": "code",
   "execution_count": null,
   "id": "b93a7892",
   "metadata": {},
   "outputs": [],
   "source": [
    "print(model_zoo)"
   ]
  },
  {
   "cell_type": "markdown",
   "id": "87bf3abf",
   "metadata": {},
   "source": [
    "# Load the model"
   ]
  },
  {
   "cell_type": "code",
   "execution_count": 2,
   "id": "18b8267f",
   "metadata": {},
   "outputs": [
    {
     "name": "stdout",
     "output_type": "stream",
     "text": [
      "cuda\n"
     ]
    }
   ],
   "source": [
    "# setup device to use\n",
    "device = torch.device(\"cuda\") if torch.cuda.is_available() else \"cpu\"\n",
    "print(device)"
   ]
  },
  {
   "cell_type": "code",
   "execution_count": 3,
   "id": "7d1bfa7b",
   "metadata": {},
   "outputs": [],
   "source": [
    "model, vis_processors, txt_processors = load_model_and_preprocess(\n",
    "    name = \"blip2_feature_extractor\", model_type=\"pretrain\", is_eval=True, device=device\n",
    ")"
   ]
  },
  {
   "cell_type": "markdown",
   "id": "dacbdae0",
   "metadata": {},
   "source": [
    "# Define the Dataset class"
   ]
  },
  {
   "cell_type": "code",
   "execution_count": 37,
   "id": "f8d51bbd",
   "metadata": {},
   "outputs": [],
   "source": [
    "class TwitterCOMMsDataset(Dataset):\n",
    "    def __init__(self, csv_path, img_dir):\n",
    "        \"\"\"\n",
    "        Args:\n",
    "            csv_path (string): Path to the {train_completed|val_completed}.csv file.\n",
    "            image_folder_dir (string): Directory containing the images\n",
    "        \"\"\"\n",
    "        self.df = pd.read_csv(csv_path, index_col=0)\n",
    "        self.img_dir = img_dir\n",
    "        \n",
    "        self.df['exists'] = self.df['filename'].apply(lambda filename: os.path.exists(os.path.join(img_dir, filename)))\n",
    "        delete_row = self.df[self.df[\"exists\"]==False].index\n",
    "        self.df = self.df.drop(delete_row)\n",
    "    \n",
    "    def __len__(self):\n",
    "        return len(self.df)\n",
    "\n",
    "    def __getitem__(self, idx):\n",
    "        item = self.df.iloc[idx]\n",
    "        caption = item['full_text']\n",
    "        img_filename = item['filename']\n",
    "        topic = item['topic']\n",
    "        falsified = int(item['falsified'])\n",
    "        not_falsified = float(not item['falsified'])\n",
    "#         label = np.array((falsified, not_falsified))\n",
    "        label = np.array(falsified)\n",
    "        domain = topic.split('_')[0]\n",
    "        diff = topic.split('_')[1]\n",
    "        \n",
    "        raw_image = Image.open(os.path.join(self.img_dir, img_filename)).convert('RGB')\n",
    "        image = vis_processors[\"eval\"](raw_image).unsqueeze(0).to(device)\n",
    "        text_input = txt_processors[\"eval\"](caption)\n",
    "        sample = {\"image\": image, \"text_input\": [text_input]}   # image shape: [1, 3, 224, 224]\n",
    "\n",
    "        features_multimodal = model.extract_features(sample, mode=\"multimodal\")   # [1, 32, 768] ??? image and text might mismatch\n",
    "        multimodal_emb = features_multimodal.multimodal_embeds[:, 0, :]   # [1, 768]\n",
    "#         print(multimodal_emb.shape)\n",
    "#         features_image = model.extract_features(sample, mode=\"image\")\n",
    "#         features_text = model.extract_features(sample, mode=\"text\")\n",
    "#         features_image_proj = features_image.image_embeds_proj[:,0,:]   # [1, 256]\n",
    "#         features_text_proj = features_text.text_embeds_proj[:,0,:]   # [1, 256]\n",
    "        \n",
    "#         multimodal_emb = torch.cat((features_image_proj, features_text_proj), 1)\n",
    "#         multimodal_emb = features_image_proj * features_text_proj   # [1, 256]\n",
    "#         print(multimodal_emb.shape)\n",
    "\n",
    "#         similarity = features_image_proj @ features_text_proj.t()\n",
    "\n",
    "        return {\"multimodal_emb\": multimodal_emb,\n",
    "                \"topic\": topic, \n",
    "                \"label\": label, \n",
    "                \"domain\": domain, \n",
    "                \"difficulty\": diff}\n",
    "#                \"similarity\": similarity}\n",
    "        \n",
    "        \n",
    "        \n",
    "    "
   ]
  },
  {
   "cell_type": "code",
   "execution_count": 93,
   "id": "5c1898ea",
   "metadata": {},
   "outputs": [],
   "source": [
    "# class ClimateAndCovidDataset(Dataset):\n",
    "#     def __init__(self, csv_path, img_dir):\n",
    "#         \"\"\"\n",
    "#         Args:\n",
    "#             csv_path (string): Path to the {train_completed|val_completed}.csv file.\n",
    "#             image_folder_dir (string): Directory containing the images\n",
    "#         \"\"\"\n",
    "#         self.df = pd.read_csv(csv_path, index_col=0)\n",
    "#         self.img_dir = img_dir\n",
    "        \n",
    "#         self.df['exists'] = self.df['filename'].apply(lambda filename: os.path.exists(os.path.join(img_dir, filename)))\n",
    "#         delete_row = self.df[self.df[\"exists\"]==False].index\n",
    "#         self.df = self.df.drop(delete_row)\n",
    "        \n",
    "#         self.df['is_military'] = self.df['topic'].apply(lambda topic: 'military' in topic)\n",
    "#         delete_row = self.df[self.df[\"is_military\"]==True].index\n",
    "#         self.df = self.df.drop(delete_row)\n",
    "    \n",
    "#     def __len__(self):\n",
    "#         return len(self.df)\n",
    "\n",
    "#     def __getitem__(self, idx):\n",
    "#         item = self.df.iloc[idx]\n",
    "#         caption = item['full_text']\n",
    "#         img_filename = item['filename']\n",
    "#         topic = item['topic']\n",
    "#         falsified = float(item['falsified'])\n",
    "#         not_falsified = float(not item['falsified'])\n",
    "#         label = np.array((falsified, not_falsified))\n",
    "#         domain = topic.split('_')[0]\n",
    "#         diff = topic.split('_')[1]\n",
    "        \n",
    "#         try:\n",
    "#             raw_image = Image.open(os.path.join(self.img_dir, img_filename)).convert('RGB')\n",
    "#             image = vis_processors[\"eval\"](raw_image).unsqueeze(0).to(device)\n",
    "#             text_input = txt_processors[\"eval\"](caption)\n",
    "#             sample = {\"image\": image, \"text_input\": [text_input]}   # image shape: [1, 3, 224, 224]\n",
    "        \n",
    "#             features_multimodal = model.extract_features(sample, mode=\"multimodal\")\n",
    "# #             features_image = model.extract_features(sample, mode=\"image\")\n",
    "# #             features_text = model.extract_features(sample, mode=\"text\")\n",
    "# #             print(features_multimodal.multimodal_embeds[:, 0, :].shape)\n",
    "        \n",
    "#             return {\"multimodal_emb\": features_multimodal.multimodal_embeds[:, 0, :],\n",
    "#                     \"topic\": topic, \n",
    "#                     \"label\": label, \n",
    "#                     \"domain\": domain, \n",
    "#                     \"difficulty\": diff}\n",
    "        \n",
    "#         except IOError as e:\n",
    "#             print(e)\n",
    "        \n",
    "        \n",
    "        \n",
    "    "
   ]
  },
  {
   "cell_type": "code",
   "execution_count": 39,
   "id": "f91a7c8b",
   "metadata": {},
   "outputs": [],
   "source": [
    "train_data = TwitterCOMMsDataset(csv_path='../data/train_completed.csv',\n",
    "                                    img_dir='/import/network-temp/yimengg/data/twitter-comms/train/images/train_image_ids')   # took ~one hour to construct the dataset\n",
    "val_data = TwitterCOMMsDataset(csv_path='../data/val_completed.csv', \n",
    "                               img_dir='/import/network-temp/yimengg/data/twitter-comms/images/val_images/val_tweet_image_ids')"
   ]
  },
  {
   "cell_type": "code",
   "execution_count": 40,
   "id": "2306202d",
   "metadata": {},
   "outputs": [
    {
     "data": {
      "text/plain": [
       "2292375"
      ]
     },
     "execution_count": 40,
     "metadata": {},
     "output_type": "execute_result"
    }
   ],
   "source": [
    "train_data.__len__()"
   ]
  },
  {
   "cell_type": "code",
   "execution_count": 46,
   "id": "4a243713",
   "metadata": {},
   "outputs": [],
   "source": [
    "BATCH_SIZE = 64\n",
    "\n",
    "train_iterator = data.DataLoader(train_data, \n",
    "                                 shuffle = True, \n",
    "                                 batch_size=BATCH_SIZE)\n",
    "val_iterator = data.DataLoader(val_data, \n",
    "                               shuffle = False, \n",
    "                               batch_size=BATCH_SIZE)"
   ]
  },
  {
   "cell_type": "code",
   "execution_count": 47,
   "id": "4eb021b0",
   "metadata": {},
   "outputs": [],
   "source": [
    "class Net(nn.Module):\n",
    "    def __init__(self, in_dim, out_dim=2):\n",
    "        super(Net, self).__init__()\n",
    "        \n",
    "        self.fc = nn.Linear(in_dim, out_dim)\n",
    "        self.in_dim = in_dim\n",
    "    \n",
    "    def forward(self, x):\n",
    "        x = x.view(-1, self.in_dim)\n",
    "        out = self.fc(x)\n",
    "        return out\n",
    "    \n",
    "    def weight_init(self, mean, std):\n",
    "        for m in self._modules:\n",
    "            normal_init(self._modules[m], mean, std)"
   ]
  },
  {
   "cell_type": "code",
   "execution_count": 48,
   "id": "11557e34",
   "metadata": {},
   "outputs": [],
   "source": [
    "def normal_init(m, mean, std):\n",
    "    if isinstance(m, nn.Linear):\n",
    "        m.weight.data.normal_(mean, std)\n",
    "        m.bias.data.zero_()"
   ]
  },
  {
   "cell_type": "code",
   "execution_count": 49,
   "id": "9e5f1fe2",
   "metadata": {},
   "outputs": [],
   "source": [
    "def main():\n",
    "#     net = Net(256)\n",
    "    net = Net(768)\n",
    "    net.cuda()\n",
    "    net.train()\n",
    "    net.weight_init(mean=0, std=0.02)\n",
    "    \n",
    "    lr = 0.0001\n",
    "    optimizer = optim.Adam(net.parameters(), lr=lr, betas=(0.5, 0.999), weight_decay=1e-5)\n",
    "    \n",
    "    criterion = nn.CrossEntropyLoss()\n",
    "    criterion.to(device)\n",
    " \n",
    "    EPOCHS = 2\n",
    "    for epoch in range(EPOCHS):\n",
    "        total_loss = 0\n",
    "        num_correct = 0\n",
    "        total = 0\n",
    "        for i, batch in tqdm(enumerate(train_iterator, 0), desc='iterations'):\n",
    "            inputs = batch[\"multimodal_emb\"].to(device)\n",
    "            labels = batch[\"label\"].to(device)\n",
    "            inputs, labels = Variable(inputs), Variable(labels)\n",
    "            \n",
    "            net.zero_grad()\n",
    "            y_preds = net(inputs)\n",
    "            loss = criterion(y_preds, labels)\n",
    "            \n",
    "            loss.backward()\n",
    "            optimizer.step()\n",
    "            \n",
    "            total_loss += loss.item()\n",
    "            \n",
    "            _, top_pred = y_preds.topk(1, 1)\n",
    "            y = labels.cpu()\n",
    "            batch_size = y.shape[0]\n",
    "            top_pred = top_pred.cpu().view(batch_size)\n",
    "            \n",
    "#             num_correct += sum(top_pred == y[:, 0]).item()\n",
    "            num_correct += sum(top_pred == y).item()\n",
    "            total += batch_size\n",
    "            \n",
    "            if i % 50 == 0:\n",
    "                print(\"Epoch [%d/%d]: Training accuracy %.2f\" % (epoch+1, EPOCHS, num_correct/total))\n",
    "#                 print(y_preds)\n",
    "#                 print(top_pred)\n",
    "#                 print(labels)\n",
    "#                 print(num_correct)\n",
    "#                 print(total)\n",
    "\n",
    "    return net"
   ]
  },
  {
   "cell_type": "code",
   "execution_count": null,
   "id": "442294f5",
   "metadata": {},
   "outputs": [
    {
     "name": "stderr",
     "output_type": "stream",
     "text": [
      "iterations: 1it [00:07,  7.96s/it]"
     ]
    },
    {
     "name": "stdout",
     "output_type": "stream",
     "text": [
      "Epoch [1/2]: Training accuracy 0.38\n"
     ]
    },
    {
     "name": "stderr",
     "output_type": "stream",
     "text": [
      "iterations: 51it [05:40,  6.98s/it]"
     ]
    },
    {
     "name": "stdout",
     "output_type": "stream",
     "text": [
      "Epoch [1/2]: Training accuracy 0.57\n"
     ]
    },
    {
     "name": "stderr",
     "output_type": "stream",
     "text": [
      "iterations: 101it [11:34,  9.23s/it]"
     ]
    },
    {
     "name": "stdout",
     "output_type": "stream",
     "text": [
      "Epoch [1/2]: Training accuracy 0.62\n"
     ]
    },
    {
     "name": "stderr",
     "output_type": "stream",
     "text": [
      "iterations: 151it [19:24,  8.47s/it]"
     ]
    },
    {
     "name": "stdout",
     "output_type": "stream",
     "text": [
      "Epoch [1/2]: Training accuracy 0.65\n"
     ]
    },
    {
     "name": "stderr",
     "output_type": "stream",
     "text": [
      "iterations: 201it [25:49,  7.06s/it]"
     ]
    },
    {
     "name": "stdout",
     "output_type": "stream",
     "text": [
      "Epoch [1/2]: Training accuracy 0.66\n"
     ]
    },
    {
     "name": "stderr",
     "output_type": "stream",
     "text": [
      "iterations: 251it [31:49,  7.33s/it]"
     ]
    },
    {
     "name": "stdout",
     "output_type": "stream",
     "text": [
      "Epoch [1/2]: Training accuracy 0.67\n"
     ]
    },
    {
     "name": "stderr",
     "output_type": "stream",
     "text": [
      "iterations: 301it [37:35,  6.79s/it]"
     ]
    },
    {
     "name": "stdout",
     "output_type": "stream",
     "text": [
      "Epoch [1/2]: Training accuracy 0.67\n"
     ]
    },
    {
     "name": "stderr",
     "output_type": "stream",
     "text": [
      "iterations: 351it [43:14,  6.35s/it]"
     ]
    },
    {
     "name": "stdout",
     "output_type": "stream",
     "text": [
      "Epoch [1/2]: Training accuracy 0.68\n"
     ]
    },
    {
     "name": "stderr",
     "output_type": "stream",
     "text": [
      "iterations: 401it [49:14,  9.18s/it]"
     ]
    },
    {
     "name": "stdout",
     "output_type": "stream",
     "text": [
      "Epoch [1/2]: Training accuracy 0.68\n"
     ]
    },
    {
     "name": "stderr",
     "output_type": "stream",
     "text": [
      "iterations: 451it [56:50,  8.08s/it]"
     ]
    },
    {
     "name": "stdout",
     "output_type": "stream",
     "text": [
      "Epoch [1/2]: Training accuracy 0.68\n"
     ]
    },
    {
     "name": "stderr",
     "output_type": "stream",
     "text": [
      "iterations: 501it [1:03:17,  7.46s/it]"
     ]
    },
    {
     "name": "stdout",
     "output_type": "stream",
     "text": [
      "Epoch [1/2]: Training accuracy 0.69\n"
     ]
    },
    {
     "name": "stderr",
     "output_type": "stream",
     "text": [
      "iterations: 551it [1:09:16,  6.88s/it]"
     ]
    },
    {
     "name": "stdout",
     "output_type": "stream",
     "text": [
      "Epoch [1/2]: Training accuracy 0.69\n"
     ]
    },
    {
     "name": "stderr",
     "output_type": "stream",
     "text": [
      "iterations: 601it [1:17:00,  9.31s/it]"
     ]
    },
    {
     "name": "stdout",
     "output_type": "stream",
     "text": [
      "Epoch [1/2]: Training accuracy 0.69\n"
     ]
    },
    {
     "name": "stderr",
     "output_type": "stream",
     "text": [
      "iterations: 651it [1:23:43,  7.85s/it]"
     ]
    },
    {
     "name": "stdout",
     "output_type": "stream",
     "text": [
      "Epoch [1/2]: Training accuracy 0.70\n"
     ]
    },
    {
     "name": "stderr",
     "output_type": "stream",
     "text": [
      "iterations: 701it [1:29:48,  6.91s/it]"
     ]
    },
    {
     "name": "stdout",
     "output_type": "stream",
     "text": [
      "Epoch [1/2]: Training accuracy 0.70\n"
     ]
    },
    {
     "name": "stderr",
     "output_type": "stream",
     "text": [
      "iterations: 751it [1:36:17,  9.73s/it]"
     ]
    },
    {
     "name": "stdout",
     "output_type": "stream",
     "text": [
      "Epoch [1/2]: Training accuracy 0.70\n"
     ]
    },
    {
     "name": "stderr",
     "output_type": "stream",
     "text": [
      "iterations: 801it [1:43:41,  8.24s/it]"
     ]
    },
    {
     "name": "stdout",
     "output_type": "stream",
     "text": [
      "Epoch [1/2]: Training accuracy 0.70\n"
     ]
    },
    {
     "name": "stderr",
     "output_type": "stream",
     "text": [
      "iterations: 851it [1:49:59,  7.34s/it]"
     ]
    },
    {
     "name": "stdout",
     "output_type": "stream",
     "text": [
      "Epoch [1/2]: Training accuracy 0.70\n"
     ]
    },
    {
     "name": "stderr",
     "output_type": "stream",
     "text": [
      "iterations: 887it [1:54:18,  7.00s/it]"
     ]
    }
   ],
   "source": [
    "net = main()"
   ]
  },
  {
   "cell_type": "code",
   "execution_count": null,
   "id": "e5818ca9",
   "metadata": {},
   "outputs": [],
   "source": [
    "# for i, batch in tqdm(enumerate(val_iterator, 0), desc='iterations'):\n",
    "#     num_correct = 0\n",
    "#     total = 0\n",
    "#     similarity = batch[\"similarity\"].squeeze()\n",
    "#     labels = batch[\"label\"]\n",
    "#     y_preds = torch.zeros_like(labels)\n",
    "#     y_preds[similarity < 0.5] = 1\n",
    "    \n",
    "#     num_correct += sum(y_preds == labels).item()\n",
    "#     total += BATCH_SIZE\n",
    "    \n",
    "#     if i % 50 == 0:\n",
    "#         print(\"Accuracy %.2f\" % (num_correct/total))\n",
    "#         print(y_preds)"
   ]
  },
  {
   "cell_type": "markdown",
   "id": "04932705",
   "metadata": {},
   "source": [
    "# Playground"
   ]
  },
  {
   "cell_type": "code",
   "execution_count": null,
   "id": "dd0f7c01",
   "metadata": {},
   "outputs": [],
   "source": [
    "val_df = pd.read_csv('../data/val_completed.csv', index_col=0)\n",
    "val_df"
   ]
  },
  {
   "cell_type": "code",
   "execution_count": null,
   "id": "118efe42",
   "metadata": {},
   "outputs": [],
   "source": [
    "img_dir = '/import/network-temp/yimengg/data/twitter-comms/images/val_images/val_tweet_image_ids'\n",
    "val_df['exists'] = val_df['filename'].apply(lambda filename: os.path.exists(os.path.join(img_dir, filename)))"
   ]
  },
  {
   "cell_type": "code",
   "execution_count": null,
   "id": "6ccfd647",
   "metadata": {},
   "outputs": [],
   "source": [
    "delete_row = val_df[val_df[\"exists\"]==False].index"
   ]
  },
  {
   "cell_type": "code",
   "execution_count": null,
   "id": "7328adc3",
   "metadata": {},
   "outputs": [],
   "source": [
    "val_df = val_df.drop(delete_row)"
   ]
  },
  {
   "cell_type": "code",
   "execution_count": null,
   "id": "672ba98f",
   "metadata": {},
   "outputs": [],
   "source": [
    "val_df"
   ]
  },
  {
   "cell_type": "code",
   "execution_count": null,
   "id": "150de95a",
   "metadata": {},
   "outputs": [],
   "source": []
  }
 ],
 "metadata": {
  "kernelspec": {
   "display_name": "Python 3 (ipykernel)",
   "language": "python",
   "name": "python3"
  },
  "language_info": {
   "codemirror_mode": {
    "name": "ipython",
    "version": 3
   },
   "file_extension": ".py",
   "mimetype": "text/x-python",
   "name": "python",
   "nbconvert_exporter": "python",
   "pygments_lexer": "ipython3",
   "version": "3.7.7"
  }
 },
 "nbformat": 4,
 "nbformat_minor": 5
}
