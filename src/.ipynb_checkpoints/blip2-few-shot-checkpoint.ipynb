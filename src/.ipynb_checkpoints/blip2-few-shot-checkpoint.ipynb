{
 "cells": [
  {
   "cell_type": "code",
   "execution_count": 1,
   "id": "b8536a36",
   "metadata": {},
   "outputs": [
    {
     "name": "stderr",
     "output_type": "stream",
     "text": [
      "/homes/yg007/nytimes_project/venv_nyc/lib/python3.7/site-packages/tqdm/auto.py:22: TqdmWarning: IProgress not found. Please update jupyter and ipywidgets. See https://ipywidgets.readthedocs.io/en/stable/user_install.html\n",
      "  from .autonotebook import tqdm as notebook_tqdm\n"
     ]
    }
   ],
   "source": [
    "import torch\n",
    "from PIL import Image\n",
    "import requests\n",
    "from lavis.models import load_model_and_preprocess\n",
    "\n",
    "from torch import nn\n",
    "import pandas as pd\n",
    "import os\n",
    "\n",
    "from tqdm.auto import tqdm, trange\n",
    "\n",
    "from sklearn.metrics import classification_report\n",
    "import json\n",
    "\n",
    "from torch.utils.data import Dataset\n",
    "import torch.utils.data as data\n",
    "from torch import optim\n",
    "from torch.autograd import Variable\n",
    "import numpy as np"
   ]
  },
  {
   "cell_type": "markdown",
   "id": "87bf3abf",
   "metadata": {},
   "source": [
    "# Load the model"
   ]
  },
  {
   "cell_type": "code",
   "execution_count": 2,
   "id": "18b8267f",
   "metadata": {},
   "outputs": [],
   "source": [
    "# setup device to use\n",
    "device = torch.device(\"cuda\") if torch.cuda.is_available() else \"cpu\""
   ]
  },
  {
   "cell_type": "code",
   "execution_count": 4,
   "id": "7d1bfa7b",
   "metadata": {},
   "outputs": [],
   "source": [
    "model, vis_processors, txt_processors = load_model_and_preprocess(\n",
    "    name = \"blip_feature_extractor\", model_type=\"base\", is_eval=True, device=device\n",
    ")"
   ]
  },
  {
   "cell_type": "markdown",
   "id": "dacbdae0",
   "metadata": {},
   "source": [
    "# Define the Dataset class"
   ]
  },
  {
   "cell_type": "code",
   "execution_count": 98,
   "id": "f8d51bbd",
   "metadata": {},
   "outputs": [],
   "source": [
    "class TwitterCOMMsDataset(Dataset):\n",
    "    def __init__(self, csv_path, img_dir):\n",
    "        \"\"\"\n",
    "        Args:\n",
    "            csv_path (string): Path to the {train_completed|val_completed}.csv file.\n",
    "            image_folder_dir (string): Directory containing the images\n",
    "        \"\"\"\n",
    "        self.df = pd.read_csv(csv_path, index_col=0)\n",
    "        self.img_dir = img_dir\n",
    "        \n",
    "        self.df['exists'] = self.df['filename'].apply(lambda filename: os.path.exists(os.path.join(img_dir, filename)))\n",
    "        delete_row = self.df[self.df[\"exists\"]==False].index\n",
    "        self.df = self.df.drop(delete_row)\n",
    "    \n",
    "    def __len__(self):\n",
    "        return len(self.df)\n",
    "\n",
    "    def __getitem__(self, idx):\n",
    "        item = self.df.iloc[idx]\n",
    "        caption = item['full_text']\n",
    "        img_filename = item['filename']\n",
    "        topic = item['topic']\n",
    "        falsified = int(item['falsified'])\n",
    "        not_falsified = float(not item['falsified'])\n",
    "#         label = np.array((falsified, not_falsified))\n",
    "        label = np.array(falsified)\n",
    "        domain = topic.split('_')[0]\n",
    "        diff = topic.split('_')[1]\n",
    "        \n",
    "        raw_image = Image.open(os.path.join(self.img_dir, img_filename)).convert('RGB')\n",
    "        image = vis_processors[\"eval\"](raw_image).unsqueeze(0).to(device)\n",
    "        text_input = txt_processors[\"eval\"](caption)\n",
    "        sample = {\"image\": image, \"text_input\": [text_input]}   # image shape: [1, 3, 224, 224]\n",
    "\n",
    "#         features_multimodal = model.extract_features(sample, mode=\"multimodal\")   # ??? image and text might mismatch\n",
    "        features_image = model.extract_features(sample, mode=\"image\")\n",
    "        features_text = model.extract_features(sample, mode=\"text\")\n",
    "        features_image_proj = features_image.image_embeds_proj[:,0,:]   # [1, 256]\n",
    "        features_text_proj = features_text.text_embeds_proj[:,0,:]   # [1, 256]\n",
    "#         multimodal_emb = torch.cat((features_image_proj, features_text_proj), 1)\n",
    "        multimodal_emb = features_image_proj * features_text_proj   # [1, 256]\n",
    "#         print(multimodal_emb.shape)\n",
    "\n",
    "        similarity = features_image_proj @ features_text_proj.t()\n",
    "\n",
    "        return {\"multimodal_emb\": multimodal_emb,\n",
    "                \"topic\": topic, \n",
    "                \"label\": label, \n",
    "                \"domain\": domain, \n",
    "                \"difficulty\": diff,\n",
    "               \"similarity\": similarity}\n",
    "        \n",
    "        \n",
    "        \n",
    "    "
   ]
  },
  {
   "cell_type": "code",
   "execution_count": 93,
   "id": "5c1898ea",
   "metadata": {},
   "outputs": [],
   "source": [
    "# class ClimateAndCovidDataset(Dataset):\n",
    "#     def __init__(self, csv_path, img_dir):\n",
    "#         \"\"\"\n",
    "#         Args:\n",
    "#             csv_path (string): Path to the {train_completed|val_completed}.csv file.\n",
    "#             image_folder_dir (string): Directory containing the images\n",
    "#         \"\"\"\n",
    "#         self.df = pd.read_csv(csv_path, index_col=0)\n",
    "#         self.img_dir = img_dir\n",
    "        \n",
    "#         self.df['exists'] = self.df['filename'].apply(lambda filename: os.path.exists(os.path.join(img_dir, filename)))\n",
    "#         delete_row = self.df[self.df[\"exists\"]==False].index\n",
    "#         self.df = self.df.drop(delete_row)\n",
    "        \n",
    "#         self.df['is_military'] = self.df['topic'].apply(lambda topic: 'military' in topic)\n",
    "#         delete_row = self.df[self.df[\"is_military\"]==True].index\n",
    "#         self.df = self.df.drop(delete_row)\n",
    "    \n",
    "#     def __len__(self):\n",
    "#         return len(self.df)\n",
    "\n",
    "#     def __getitem__(self, idx):\n",
    "#         item = self.df.iloc[idx]\n",
    "#         caption = item['full_text']\n",
    "#         img_filename = item['filename']\n",
    "#         topic = item['topic']\n",
    "#         falsified = float(item['falsified'])\n",
    "#         not_falsified = float(not item['falsified'])\n",
    "#         label = np.array((falsified, not_falsified))\n",
    "#         domain = topic.split('_')[0]\n",
    "#         diff = topic.split('_')[1]\n",
    "        \n",
    "#         try:\n",
    "#             raw_image = Image.open(os.path.join(self.img_dir, img_filename)).convert('RGB')\n",
    "#             image = vis_processors[\"eval\"](raw_image).unsqueeze(0).to(device)\n",
    "#             text_input = txt_processors[\"eval\"](caption)\n",
    "#             sample = {\"image\": image, \"text_input\": [text_input]}   # image shape: [1, 3, 224, 224]\n",
    "        \n",
    "#             features_multimodal = model.extract_features(sample, mode=\"multimodal\")\n",
    "# #             features_image = model.extract_features(sample, mode=\"image\")\n",
    "# #             features_text = model.extract_features(sample, mode=\"text\")\n",
    "# #             print(features_multimodal.multimodal_embeds[:, 0, :].shape)\n",
    "        \n",
    "#             return {\"multimodal_emb\": features_multimodal.multimodal_embeds[:, 0, :],\n",
    "#                     \"topic\": topic, \n",
    "#                     \"label\": label, \n",
    "#                     \"domain\": domain, \n",
    "#                     \"difficulty\": diff}\n",
    "        \n",
    "#         except IOError as e:\n",
    "#             print(e)\n",
    "        \n",
    "        \n",
    "        \n",
    "    "
   ]
  },
  {
   "cell_type": "code",
   "execution_count": 99,
   "id": "f91a7c8b",
   "metadata": {},
   "outputs": [],
   "source": [
    "# train_data = TwitterCOMMsDataset(csv_path='../data/train_completed.csv',\n",
    "#                                     img_dir='/import/network-temp/yimengg/data/twitter-comms/train/images/train_image_ids')\n",
    "val_data = TwitterCOMMsDataset(csv_path='../data/val_completed.csv', \n",
    "                               img_dir='/import/network-temp/yimengg/data/twitter-comms/images/val_images/val_tweet_image_ids')"
   ]
  },
  {
   "cell_type": "code",
   "execution_count": 89,
   "id": "2306202d",
   "metadata": {},
   "outputs": [
    {
     "data": {
      "text/plain": [
       "2292375"
      ]
     },
     "execution_count": 89,
     "metadata": {},
     "output_type": "execute_result"
    }
   ],
   "source": [
    "train_data.__len__()"
   ]
  },
  {
   "cell_type": "code",
   "execution_count": 100,
   "id": "4a243713",
   "metadata": {},
   "outputs": [],
   "source": [
    "BATCH_SIZE = 64\n",
    "\n",
    "# train_iterator = data.DataLoader(train_data, \n",
    "#                                  shuffle = True, \n",
    "#                                  batch_size=BATCH_SIZE)\n",
    "val_iterator = data.DataLoader(val_data, \n",
    "                               shuffle = True, \n",
    "                               batch_size=BATCH_SIZE)"
   ]
  },
  {
   "cell_type": "code",
   "execution_count": 42,
   "id": "4eb021b0",
   "metadata": {},
   "outputs": [],
   "source": [
    "class Net(nn.Module):\n",
    "    def __init__(self, in_dim, out_dim=2):\n",
    "        super(Net, self).__init__()\n",
    "        \n",
    "        self.fc = nn.Linear(in_dim, out_dim)\n",
    "        self.in_dim = in_dim\n",
    "    \n",
    "    def forward(self, x):\n",
    "        x = x.view(-1, self.in_dim)\n",
    "        out = self.fc(x)\n",
    "        return out\n",
    "    \n",
    "    def weight_init(self, mean, std):\n",
    "        for m in self._modules:\n",
    "            normal_init(self._modules[m], mean, std)"
   ]
  },
  {
   "cell_type": "code",
   "execution_count": 43,
   "id": "11557e34",
   "metadata": {},
   "outputs": [],
   "source": [
    "def normal_init(m, mean, std):\n",
    "    if isinstance(m, nn.Linear):\n",
    "        m.weight.data.normal_(mean, std)\n",
    "        m.bias.data.zero_()"
   ]
  },
  {
   "cell_type": "code",
   "execution_count": 79,
   "id": "9e5f1fe2",
   "metadata": {},
   "outputs": [],
   "source": [
    "def main():\n",
    "    net = Net(256)\n",
    "    net.cuda()\n",
    "    net.train()\n",
    "    net.weight_init(mean=0, std=0.02)\n",
    "    \n",
    "    lr = 0.001\n",
    "    optimizer = optim.Adam(net.parameters(), lr=lr, betas=(0.5, 0.999), weight_decay=1e-5)\n",
    "    \n",
    "    criterion = nn.CrossEntropyLoss()\n",
    "    criterion.to(device)\n",
    " \n",
    "    EPOCHS = 2\n",
    "    for epoch in range(EPOCHS):\n",
    "        total_loss = 0\n",
    "        num_correct = 0\n",
    "        total = 0\n",
    "        for i, batch in tqdm(enumerate(val_iterator, 0), desc='iterations'):\n",
    "            inputs = batch[\"multimodal_emb\"].to(device)\n",
    "            labels = batch[\"label\"].to(device)\n",
    "            inputs, labels = Variable(inputs), Variable(labels)\n",
    "            \n",
    "            net.zero_grad()\n",
    "            y_preds = net(inputs)\n",
    "            loss = criterion(y_preds, labels)\n",
    "            \n",
    "            loss.backward()\n",
    "            optimizer.step()\n",
    "            \n",
    "            total_loss += loss.item()\n",
    "            \n",
    "            _, top_pred = y_preds.topk(1, 1)\n",
    "            y = labels.cpu()\n",
    "            batch_size = y.shape[0]\n",
    "            top_pred = top_pred.cpu().view(batch_size)\n",
    "            \n",
    "#             num_correct += sum(top_pred == y[:, 0]).item()\n",
    "            num_correct += sum(top_pred == y).item()\n",
    "            total += batch_size\n",
    "            \n",
    "            if i % 50 == 0:\n",
    "                print(\"Epoch [%d/%d]: Training accuracy %.2f\" % (epoch+1, EPOCHS, num_correct/total))\n",
    "                print(y_preds)\n",
    "                print(top_pred)\n",
    "                print(labels)\n",
    "                print(num_correct)\n",
    "                print(total)\n",
    "\n",
    "    return net"
   ]
  },
  {
   "cell_type": "code",
   "execution_count": 107,
   "id": "e5818ca9",
   "metadata": {},
   "outputs": [
    {
     "name": "stderr",
     "output_type": "stream",
     "text": [
      "iterations: 1it [00:03,  3.63s/it]"
     ]
    },
    {
     "name": "stdout",
     "output_type": "stream",
     "text": [
      "Accuracy 0.36\n",
      "tensor([1, 1, 1, 1, 1, 1, 1, 1, 1, 1, 1, 1, 1, 1, 1, 1, 1, 1, 1, 1, 1, 1, 1, 1,\n",
      "        1, 1, 1, 1, 1, 1, 1, 1, 1, 1, 1, 1, 1, 1, 1, 1, 1, 1, 1, 1, 1, 1, 1, 1,\n",
      "        1, 1, 1, 1, 1, 1, 1, 1, 1, 1, 1, 1, 1, 1, 1, 1])\n"
     ]
    },
    {
     "name": "stderr",
     "output_type": "stream",
     "text": [
      "iterations: 51it [02:51,  3.56s/it]"
     ]
    },
    {
     "name": "stdout",
     "output_type": "stream",
     "text": [
      "Accuracy 0.47\n",
      "tensor([1, 1, 1, 1, 1, 1, 1, 1, 1, 1, 1, 1, 1, 1, 1, 1, 1, 1, 1, 1, 1, 1, 1, 1,\n",
      "        1, 1, 1, 1, 1, 1, 1, 1, 1, 1, 1, 1, 1, 1, 1, 1, 1, 1, 1, 1, 1, 1, 1, 1,\n",
      "        1, 1, 1, 1, 1, 1, 1, 1, 1, 1, 1, 1, 1, 1, 1, 1])\n"
     ]
    },
    {
     "name": "stderr",
     "output_type": "stream",
     "text": [
      "iterations: 101it [05:34,  3.67s/it]"
     ]
    },
    {
     "name": "stdout",
     "output_type": "stream",
     "text": [
      "Accuracy 0.55\n",
      "tensor([1, 1, 1, 1, 1, 1, 1, 1, 1, 1, 1, 1, 1, 1, 1, 1, 1, 1, 1, 1, 1, 1, 1, 1,\n",
      "        1, 1, 1, 1, 1, 1, 1, 1, 1, 1, 1, 1, 1, 1, 1, 1, 1, 1, 1, 1, 1, 1, 1, 1,\n",
      "        1, 1, 1, 1, 1, 1, 1, 1, 1, 1, 1, 1, 1, 1, 1, 1])\n"
     ]
    },
    {
     "name": "stderr",
     "output_type": "stream",
     "text": [
      "iterations: 151it [08:25,  3.47s/it]"
     ]
    },
    {
     "name": "stdout",
     "output_type": "stream",
     "text": [
      "Accuracy 0.42\n",
      "tensor([1, 1, 1, 1, 1, 1, 1, 1, 1, 1, 1, 1, 1, 1, 1, 1, 1, 1, 1, 1, 1, 1, 1, 1,\n",
      "        1, 1, 1, 1, 1, 1, 1, 1, 1, 1, 1, 1, 1, 1, 1, 1, 1, 1, 1, 1, 1, 1, 1, 1,\n",
      "        1, 1, 1, 1, 1, 1, 1, 1, 1, 1, 1, 1, 1, 1, 1, 1])\n"
     ]
    },
    {
     "name": "stderr",
     "output_type": "stream",
     "text": [
      "iterations: 201it [11:09,  3.20s/it]"
     ]
    },
    {
     "name": "stdout",
     "output_type": "stream",
     "text": [
      "Accuracy 0.59\n",
      "tensor([1, 1, 1, 1, 1, 1, 1, 1, 1, 1, 1, 1, 1, 1, 1, 1, 1, 1, 1, 1, 1, 1, 1, 1,\n",
      "        1, 1, 1, 1, 1, 1, 1, 1, 1, 1, 1, 1, 1, 1, 1, 1, 1, 1, 1, 1, 1, 1, 1, 1,\n",
      "        1, 1, 1, 1, 1, 1, 1, 1, 1, 1, 1, 1, 1, 1, 1, 1])\n"
     ]
    },
    {
     "name": "stderr",
     "output_type": "stream",
     "text": [
      "iterations: 251it [13:47,  3.27s/it]"
     ]
    },
    {
     "name": "stdout",
     "output_type": "stream",
     "text": [
      "Accuracy 0.55\n",
      "tensor([1, 1, 1, 1, 1, 1, 1, 1, 1, 1, 1, 1, 1, 1, 1, 1, 1, 1, 1, 1, 1, 1, 1, 1,\n",
      "        1, 1, 1, 1, 1, 1, 1, 1, 1, 1, 1, 1, 1, 1, 1, 1, 1, 1, 1, 1, 1, 1, 1, 1,\n",
      "        1, 1, 1, 1, 1, 1, 1, 1, 1, 1, 1, 1, 1, 1, 1, 1])\n"
     ]
    },
    {
     "name": "stderr",
     "output_type": "stream",
     "text": [
      "iterations: 301it [16:26,  3.07s/it]"
     ]
    },
    {
     "name": "stdout",
     "output_type": "stream",
     "text": [
      "Accuracy 0.53\n",
      "tensor([1, 1, 1, 1, 1, 1, 1, 1, 1, 1, 1, 1, 1, 1, 1, 1, 1, 1, 1, 1, 1, 1, 1, 1,\n",
      "        1, 1, 1, 1, 1, 1, 1, 1, 1, 1, 1, 1, 1, 1, 1, 1, 1, 1, 1, 1, 1, 1, 1, 1,\n",
      "        1, 1, 1, 1, 1, 1, 1, 1, 1, 1, 1, 1, 1, 1, 1, 1])\n"
     ]
    },
    {
     "name": "stderr",
     "output_type": "stream",
     "text": [
      "iterations: 346it [18:48,  3.26s/it]\n"
     ]
    }
   ],
   "source": [
    "for i, batch in tqdm(enumerate(val_iterator, 0), desc='iterations'):\n",
    "    num_correct = 0\n",
    "    total = 0\n",
    "    similarity = batch[\"similarity\"].squeeze()\n",
    "    labels = batch[\"label\"]\n",
    "    y_preds = torch.zeros_like(labels)\n",
    "    y_preds[similarity < 0.5] = 1\n",
    "    \n",
    "    num_correct += sum(y_preds == labels).item()\n",
    "    total += BATCH_SIZE\n",
    "    \n",
    "    if i % 50 == 0:\n",
    "        print(\"Accuracy %.2f\" % (num_correct/total))\n",
    "        print(y_preds)"
   ]
  },
  {
   "cell_type": "code",
   "execution_count": 80,
   "id": "442294f5",
   "metadata": {},
   "outputs": [
    {
     "name": "stderr",
     "output_type": "stream",
     "text": [
      "iterations: 1it [00:03,  3.25s/it]"
     ]
    },
    {
     "name": "stdout",
     "output_type": "stream",
     "text": [
      "Epoch [1/2]: Training accuracy 0.48\n",
      "tensor([[-1.6271e-03, -1.6783e-03],\n",
      "        [ 4.2249e-04, -2.7659e-03],\n",
      "        [-1.4922e-04, -1.6164e-03],\n",
      "        [ 8.0145e-04, -8.1335e-04],\n",
      "        [-9.9801e-04, -4.1436e-04],\n",
      "        [-2.3779e-03, -1.7982e-03],\n",
      "        [-3.2615e-04, -3.0065e-03],\n",
      "        [-4.9869e-04, -3.1801e-03],\n",
      "        [-1.5767e-03, -2.2283e-03],\n",
      "        [-9.8567e-04, -4.9071e-04],\n",
      "        [-6.6091e-04, -1.2831e-03],\n",
      "        [-4.1325e-04, -1.4879e-03],\n",
      "        [-2.9931e-03, -8.6936e-04],\n",
      "        [-5.6451e-04, -3.2379e-03],\n",
      "        [-1.7323e-03, -2.8489e-03],\n",
      "        [ 1.0438e-03, -2.7642e-04],\n",
      "        [-2.7389e-04, -1.3078e-03],\n",
      "        [-1.3912e-03, -1.7819e-03],\n",
      "        [-1.1076e-03, -1.1403e-03],\n",
      "        [ 1.2752e-04, -8.2475e-04],\n",
      "        [-5.3813e-04, -2.3014e-03],\n",
      "        [-5.0159e-04, -3.5589e-03],\n",
      "        [-5.4779e-04, -8.2641e-04],\n",
      "        [-1.5276e-03, -2.2425e-03],\n",
      "        [-1.4742e-03, -3.0347e-03],\n",
      "        [-1.3799e-03, -2.0323e-03],\n",
      "        [ 3.0430e-04, -2.1358e-03],\n",
      "        [-2.1595e-03, -1.8987e-03],\n",
      "        [-4.1863e-04, -2.0728e-03],\n",
      "        [-3.6302e-04, -3.0279e-03],\n",
      "        [ 2.1325e-05, -1.7665e-03],\n",
      "        [-1.3190e-03, -1.8206e-03],\n",
      "        [ 4.0409e-06, -1.1030e-03],\n",
      "        [-1.0653e-04, -3.2876e-03],\n",
      "        [ 4.2143e-04, -3.1229e-03],\n",
      "        [-8.9881e-04, -1.7391e-03],\n",
      "        [-2.2243e-03, -1.1601e-03],\n",
      "        [-2.6860e-04, -1.3596e-03],\n",
      "        [-1.5735e-03, -1.7222e-03],\n",
      "        [ 5.1290e-04, -3.8192e-03],\n",
      "        [-2.8052e-03, -1.6357e-03],\n",
      "        [-3.4840e-04, -1.8535e-03],\n",
      "        [-1.6563e-03, -2.7957e-03],\n",
      "        [ 4.4645e-04, -3.9442e-03],\n",
      "        [ 1.4571e-04, -1.6531e-03],\n",
      "        [-1.0559e-03, -1.8335e-03],\n",
      "        [-7.3514e-04, -3.0176e-03],\n",
      "        [-1.2107e-03, -8.5918e-04],\n",
      "        [-2.6977e-04, -1.6234e-03],\n",
      "        [ 8.9915e-04, -2.2794e-03],\n",
      "        [-2.3275e-03, -1.2411e-03],\n",
      "        [-1.0498e-03, -2.3926e-03],\n",
      "        [-1.3433e-03, -1.8185e-03],\n",
      "        [-1.6073e-03, -2.2848e-03],\n",
      "        [-2.0746e-03, -2.0041e-03],\n",
      "        [-2.9600e-03, -3.5888e-03],\n",
      "        [ 6.4923e-04, -3.4336e-03],\n",
      "        [-1.9180e-03, -2.5172e-03],\n",
      "        [-2.7103e-04, -1.1551e-03],\n",
      "        [-6.8354e-04, -2.4492e-03],\n",
      "        [-1.2723e-04, -1.6561e-03],\n",
      "        [ 7.3999e-04, -1.1344e-03],\n",
      "        [-3.3156e-06, -3.0678e-03],\n",
      "        [-2.1363e-05, -2.1673e-03]], device='cuda:0', grad_fn=<AddmmBackward0>)\n",
      "tensor([0, 0, 0, 0, 1, 1, 0, 0, 0, 1, 0, 0, 1, 0, 0, 0, 0, 0, 0, 0, 0, 0, 0, 0,\n",
      "        0, 0, 0, 1, 0, 0, 0, 0, 0, 0, 0, 0, 1, 0, 0, 0, 1, 0, 0, 0, 0, 0, 0, 1,\n",
      "        0, 0, 1, 0, 0, 0, 1, 0, 0, 0, 0, 0, 0, 0, 0, 0])\n",
      "tensor([1, 1, 0, 0, 1, 0, 1, 0, 1, 1, 0, 0, 1, 0, 0, 1, 1, 0, 1, 1, 0, 0, 1, 1,\n",
      "        0, 1, 0, 0, 0, 0, 1, 1, 0, 1, 1, 1, 1, 0, 0, 1, 1, 1, 0, 0, 1, 1, 0, 1,\n",
      "        1, 0, 1, 1, 1, 0, 0, 1, 1, 0, 0, 1, 1, 1, 1, 1], device='cuda:0')\n",
      "31\n",
      "64\n"
     ]
    },
    {
     "name": "stderr",
     "output_type": "stream",
     "text": [
      "iterations: 51it [02:52,  3.40s/it]"
     ]
    },
    {
     "name": "stdout",
     "output_type": "stream",
     "text": [
      "Epoch [1/2]: Training accuracy 0.52\n",
      "tensor([[ 0.0249, -0.0284],\n",
      "        [ 0.0256, -0.0284],\n",
      "        [ 0.0241, -0.0257],\n",
      "        [ 0.0252, -0.0286],\n",
      "        [ 0.0245, -0.0262],\n",
      "        [ 0.0277, -0.0303],\n",
      "        [ 0.0229, -0.0271],\n",
      "        [ 0.0249, -0.0269],\n",
      "        [ 0.0259, -0.0292],\n",
      "        [ 0.0263, -0.0301],\n",
      "        [ 0.0266, -0.0295],\n",
      "        [ 0.0229, -0.0282],\n",
      "        [ 0.0247, -0.0266],\n",
      "        [ 0.0231, -0.0285],\n",
      "        [ 0.0249, -0.0288],\n",
      "        [ 0.0268, -0.0289],\n",
      "        [ 0.0245, -0.0289],\n",
      "        [ 0.0247, -0.0275],\n",
      "        [ 0.0244, -0.0279],\n",
      "        [ 0.0282, -0.0295],\n",
      "        [ 0.0259, -0.0296],\n",
      "        [ 0.0252, -0.0288],\n",
      "        [ 0.0256, -0.0262],\n",
      "        [ 0.0264, -0.0288],\n",
      "        [ 0.0250, -0.0295],\n",
      "        [ 0.0273, -0.0297],\n",
      "        [ 0.0243, -0.0292],\n",
      "        [ 0.0259, -0.0284],\n",
      "        [ 0.0253, -0.0295],\n",
      "        [ 0.0269, -0.0288],\n",
      "        [ 0.0248, -0.0288],\n",
      "        [ 0.0255, -0.0283],\n",
      "        [ 0.0272, -0.0277],\n",
      "        [ 0.0242, -0.0287],\n",
      "        [ 0.0237, -0.0262],\n",
      "        [ 0.0247, -0.0280],\n",
      "        [ 0.0259, -0.0301],\n",
      "        [ 0.0289, -0.0294],\n",
      "        [ 0.0267, -0.0292],\n",
      "        [ 0.0241, -0.0271],\n",
      "        [ 0.0251, -0.0303],\n",
      "        [ 0.0255, -0.0285],\n",
      "        [ 0.0263, -0.0277],\n",
      "        [ 0.0271, -0.0281],\n",
      "        [ 0.0249, -0.0298],\n",
      "        [ 0.0252, -0.0301],\n",
      "        [ 0.0275, -0.0296],\n",
      "        [ 0.0262, -0.0297],\n",
      "        [ 0.0276, -0.0276],\n",
      "        [ 0.0275, -0.0257],\n",
      "        [ 0.0255, -0.0253],\n",
      "        [ 0.0255, -0.0280],\n",
      "        [ 0.0256, -0.0285],\n",
      "        [ 0.0276, -0.0299],\n",
      "        [ 0.0260, -0.0277],\n",
      "        [ 0.0258, -0.0281],\n",
      "        [ 0.0264, -0.0292],\n",
      "        [ 0.0259, -0.0275],\n",
      "        [ 0.0278, -0.0280],\n",
      "        [ 0.0251, -0.0282],\n",
      "        [ 0.0269, -0.0275],\n",
      "        [ 0.0261, -0.0268],\n",
      "        [ 0.0252, -0.0274],\n",
      "        [ 0.0242, -0.0264]], device='cuda:0', grad_fn=<AddmmBackward0>)\n",
      "tensor([0, 0, 0, 0, 0, 0, 0, 0, 0, 0, 0, 0, 0, 0, 0, 0, 0, 0, 0, 0, 0, 0, 0, 0,\n",
      "        0, 0, 0, 0, 0, 0, 0, 0, 0, 0, 0, 0, 0, 0, 0, 0, 0, 0, 0, 0, 0, 0, 0, 0,\n",
      "        0, 0, 0, 0, 0, 0, 0, 0, 0, 0, 0, 0, 0, 0, 0, 0])\n",
      "tensor([0, 1, 0, 1, 0, 0, 1, 1, 1, 1, 1, 1, 0, 0, 1, 1, 1, 0, 1, 0, 1, 0, 1, 0,\n",
      "        0, 1, 0, 1, 0, 1, 1, 1, 0, 1, 1, 0, 0, 0, 0, 1, 0, 1, 1, 0, 1, 0, 0, 0,\n",
      "        1, 0, 0, 1, 0, 1, 0, 1, 1, 0, 1, 0, 0, 0, 1, 0], device='cuda:0')\n",
      "1708\n",
      "3264\n"
     ]
    },
    {
     "name": "stderr",
     "output_type": "stream",
     "text": [
      "iterations: 101it [05:38,  3.63s/it]"
     ]
    },
    {
     "name": "stdout",
     "output_type": "stream",
     "text": [
      "Epoch [1/2]: Training accuracy 0.53\n",
      "tensor([[ 0.0378, -0.0407],\n",
      "        [ 0.0429, -0.0460],\n",
      "        [ 0.0405, -0.0420],\n",
      "        [ 0.0443, -0.0462],\n",
      "        [ 0.0438, -0.0457],\n",
      "        [ 0.0425, -0.0461],\n",
      "        [ 0.0428, -0.0487],\n",
      "        [ 0.0418, -0.0454],\n",
      "        [ 0.0430, -0.0473],\n",
      "        [ 0.0438, -0.0464],\n",
      "        [ 0.0432, -0.0455],\n",
      "        [ 0.0386, -0.0397],\n",
      "        [ 0.0400, -0.0426],\n",
      "        [ 0.0442, -0.0447],\n",
      "        [ 0.0415, -0.0433],\n",
      "        [ 0.0439, -0.0453],\n",
      "        [ 0.0411, -0.0465],\n",
      "        [ 0.0404, -0.0441],\n",
      "        [ 0.0430, -0.0483],\n",
      "        [ 0.0416, -0.0436],\n",
      "        [ 0.0393, -0.0427],\n",
      "        [ 0.0420, -0.0426],\n",
      "        [ 0.0422, -0.0425],\n",
      "        [ 0.0437, -0.0463],\n",
      "        [ 0.0410, -0.0443],\n",
      "        [ 0.0391, -0.0426],\n",
      "        [ 0.0428, -0.0460],\n",
      "        [ 0.0449, -0.0477],\n",
      "        [ 0.0405, -0.0413],\n",
      "        [ 0.0406, -0.0459],\n",
      "        [ 0.0394, -0.0418],\n",
      "        [ 0.0406, -0.0417],\n",
      "        [ 0.0410, -0.0419],\n",
      "        [ 0.0418, -0.0455],\n",
      "        [ 0.0447, -0.0476],\n",
      "        [ 0.0416, -0.0471],\n",
      "        [ 0.0433, -0.0458],\n",
      "        [ 0.0422, -0.0434],\n",
      "        [ 0.0470, -0.0499],\n",
      "        [ 0.0419, -0.0447],\n",
      "        [ 0.0458, -0.0470],\n",
      "        [ 0.0441, -0.0477],\n",
      "        [ 0.0428, -0.0428],\n",
      "        [ 0.0447, -0.0470],\n",
      "        [ 0.0404, -0.0420],\n",
      "        [ 0.0438, -0.0450],\n",
      "        [ 0.0387, -0.0430],\n",
      "        [ 0.0386, -0.0406],\n",
      "        [ 0.0452, -0.0467],\n",
      "        [ 0.0428, -0.0440],\n",
      "        [ 0.0403, -0.0426],\n",
      "        [ 0.0426, -0.0447],\n",
      "        [ 0.0399, -0.0427],\n",
      "        [ 0.0473, -0.0467],\n",
      "        [ 0.0423, -0.0471],\n",
      "        [ 0.0433, -0.0452],\n",
      "        [ 0.0396, -0.0430],\n",
      "        [ 0.0392, -0.0417],\n",
      "        [ 0.0404, -0.0413],\n",
      "        [ 0.0437, -0.0440],\n",
      "        [ 0.0379, -0.0425],\n",
      "        [ 0.0408, -0.0461],\n",
      "        [ 0.0428, -0.0433],\n",
      "        [ 0.0400, -0.0409]], device='cuda:0', grad_fn=<AddmmBackward0>)\n",
      "tensor([0, 0, 0, 0, 0, 0, 0, 0, 0, 0, 0, 0, 0, 0, 0, 0, 0, 0, 0, 0, 0, 0, 0, 0,\n",
      "        0, 0, 0, 0, 0, 0, 0, 0, 0, 0, 0, 0, 0, 0, 0, 0, 0, 0, 0, 0, 0, 0, 0, 0,\n",
      "        0, 0, 0, 0, 0, 0, 0, 0, 0, 0, 0, 0, 0, 0, 0, 0])\n",
      "tensor([0, 1, 0, 0, 1, 0, 0, 1, 0, 0, 0, 1, 0, 0, 1, 0, 0, 1, 1, 1, 1, 0, 0, 1,\n",
      "        0, 0, 1, 0, 1, 0, 0, 1, 1, 1, 0, 0, 1, 1, 0, 0, 0, 0, 1, 0, 1, 1, 1, 0,\n",
      "        0, 1, 1, 1, 0, 0, 0, 0, 1, 0, 0, 0, 1, 0, 1, 0], device='cuda:0')\n",
      "3424\n",
      "6464\n"
     ]
    },
    {
     "name": "stderr",
     "output_type": "stream",
     "text": [
      "iterations: 151it [08:26,  3.26s/it]"
     ]
    },
    {
     "name": "stdout",
     "output_type": "stream",
     "text": [
      "Epoch [1/2]: Training accuracy 0.53\n",
      "tensor([[ 0.0453, -0.0462],\n",
      "        [ 0.0516, -0.0536],\n",
      "        [ 0.0482, -0.0502],\n",
      "        [ 0.0509, -0.0528],\n",
      "        [ 0.0443, -0.0457],\n",
      "        [ 0.0484, -0.0508],\n",
      "        [ 0.0509, -0.0540],\n",
      "        [ 0.0452, -0.0473],\n",
      "        [ 0.0465, -0.0477],\n",
      "        [ 0.0475, -0.0478],\n",
      "        [ 0.0493, -0.0551],\n",
      "        [ 0.0438, -0.0478],\n",
      "        [ 0.0466, -0.0488],\n",
      "        [ 0.0565, -0.0575],\n",
      "        [ 0.0451, -0.0490],\n",
      "        [ 0.0510, -0.0554],\n",
      "        [ 0.0508, -0.0522],\n",
      "        [ 0.0540, -0.0567],\n",
      "        [ 0.0454, -0.0486],\n",
      "        [ 0.0421, -0.0455],\n",
      "        [ 0.0501, -0.0530],\n",
      "        [ 0.0491, -0.0535],\n",
      "        [ 0.0471, -0.0476],\n",
      "        [ 0.0492, -0.0508],\n",
      "        [ 0.0473, -0.0507],\n",
      "        [ 0.0526, -0.0532],\n",
      "        [ 0.0491, -0.0508],\n",
      "        [ 0.0468, -0.0463],\n",
      "        [ 0.0479, -0.0526],\n",
      "        [ 0.0487, -0.0509],\n",
      "        [ 0.0479, -0.0499],\n",
      "        [ 0.0477, -0.0520],\n",
      "        [ 0.0494, -0.0513],\n",
      "        [ 0.0475, -0.0489],\n",
      "        [ 0.0517, -0.0531],\n",
      "        [ 0.0492, -0.0534],\n",
      "        [ 0.0480, -0.0519],\n",
      "        [ 0.0488, -0.0511],\n",
      "        [ 0.0489, -0.0541],\n",
      "        [ 0.0468, -0.0486],\n",
      "        [ 0.0471, -0.0480],\n",
      "        [ 0.0498, -0.0500],\n",
      "        [ 0.0514, -0.0547],\n",
      "        [ 0.0481, -0.0496],\n",
      "        [ 0.0511, -0.0537],\n",
      "        [ 0.0528, -0.0539],\n",
      "        [ 0.0515, -0.0521],\n",
      "        [ 0.0437, -0.0455],\n",
      "        [ 0.0466, -0.0533],\n",
      "        [ 0.0499, -0.0555],\n",
      "        [ 0.0496, -0.0506],\n",
      "        [ 0.0505, -0.0504],\n",
      "        [ 0.0540, -0.0575],\n",
      "        [ 0.0476, -0.0506],\n",
      "        [ 0.0510, -0.0554],\n",
      "        [ 0.0479, -0.0519],\n",
      "        [ 0.0467, -0.0464],\n",
      "        [ 0.0495, -0.0525],\n",
      "        [ 0.0487, -0.0493],\n",
      "        [ 0.0478, -0.0491],\n",
      "        [ 0.0514, -0.0533],\n",
      "        [ 0.0456, -0.0467],\n",
      "        [ 0.0495, -0.0531],\n",
      "        [ 0.0519, -0.0532]], device='cuda:0', grad_fn=<AddmmBackward0>)\n",
      "tensor([0, 0, 0, 0, 0, 0, 0, 0, 0, 0, 0, 0, 0, 0, 0, 0, 0, 0, 0, 0, 0, 0, 0, 0,\n",
      "        0, 0, 0, 0, 0, 0, 0, 0, 0, 0, 0, 0, 0, 0, 0, 0, 0, 0, 0, 0, 0, 0, 0, 0,\n",
      "        0, 0, 0, 0, 0, 0, 0, 0, 0, 0, 0, 0, 0, 0, 0, 0])\n",
      "tensor([0, 1, 1, 0, 0, 1, 0, 1, 1, 1, 0, 1, 0, 0, 1, 0, 1, 1, 1, 1, 0, 1, 0, 1,\n",
      "        0, 0, 1, 1, 1, 0, 0, 0, 0, 1, 1, 0, 0, 0, 0, 0, 1, 0, 1, 0, 1, 0, 0, 1,\n",
      "        0, 0, 1, 0, 0, 1, 0, 0, 0, 0, 1, 1, 1, 0, 0, 1], device='cuda:0')\n",
      "5125\n",
      "9664\n"
     ]
    },
    {
     "name": "stderr",
     "output_type": "stream",
     "text": [
      "iterations: 201it [11:14,  3.38s/it]"
     ]
    },
    {
     "name": "stdout",
     "output_type": "stream",
     "text": [
      "Epoch [1/2]: Training accuracy 0.53\n",
      "tensor([[ 0.0593, -0.0617],\n",
      "        [ 0.0541, -0.0589],\n",
      "        [ 0.0532, -0.0567],\n",
      "        [ 0.0519, -0.0576],\n",
      "        [ 0.0566, -0.0577],\n",
      "        [ 0.0606, -0.0624],\n",
      "        [ 0.0535, -0.0567],\n",
      "        [ 0.0577, -0.0590],\n",
      "        [ 0.0606, -0.0622],\n",
      "        [ 0.0603, -0.0618],\n",
      "        [ 0.0564, -0.0611],\n",
      "        [ 0.0547, -0.0557],\n",
      "        [ 0.0608, -0.0615],\n",
      "        [ 0.0607, -0.0642],\n",
      "        [ 0.0552, -0.0536],\n",
      "        [ 0.0601, -0.0630],\n",
      "        [ 0.0588, -0.0631],\n",
      "        [ 0.0603, -0.0623],\n",
      "        [ 0.0513, -0.0578],\n",
      "        [ 0.0593, -0.0615],\n",
      "        [ 0.0545, -0.0587],\n",
      "        [ 0.0542, -0.0561],\n",
      "        [ 0.0566, -0.0602],\n",
      "        [ 0.0611, -0.0628],\n",
      "        [ 0.0603, -0.0633],\n",
      "        [ 0.0544, -0.0579],\n",
      "        [ 0.0523, -0.0564],\n",
      "        [ 0.0626, -0.0656],\n",
      "        [ 0.0656, -0.0697],\n",
      "        [ 0.0590, -0.0618],\n",
      "        [ 0.0600, -0.0623],\n",
      "        [ 0.0640, -0.0659],\n",
      "        [ 0.0571, -0.0606],\n",
      "        [ 0.0599, -0.0654],\n",
      "        [ 0.0585, -0.0600],\n",
      "        [ 0.0564, -0.0602],\n",
      "        [ 0.0539, -0.0564],\n",
      "        [ 0.0526, -0.0540],\n",
      "        [ 0.0566, -0.0596],\n",
      "        [ 0.0556, -0.0570],\n",
      "        [ 0.0561, -0.0594],\n",
      "        [ 0.0543, -0.0585],\n",
      "        [ 0.0603, -0.0629],\n",
      "        [ 0.0558, -0.0580],\n",
      "        [ 0.0562, -0.0574],\n",
      "        [ 0.0595, -0.0628],\n",
      "        [ 0.0601, -0.0597],\n",
      "        [ 0.0576, -0.0576],\n",
      "        [ 0.0586, -0.0599],\n",
      "        [ 0.0607, -0.0655],\n",
      "        [ 0.0585, -0.0609],\n",
      "        [ 0.0585, -0.0610],\n",
      "        [ 0.0603, -0.0631],\n",
      "        [ 0.0633, -0.0636],\n",
      "        [ 0.0595, -0.0633],\n",
      "        [ 0.0543, -0.0562],\n",
      "        [ 0.0595, -0.0611],\n",
      "        [ 0.0559, -0.0594],\n",
      "        [ 0.0548, -0.0566],\n",
      "        [ 0.0562, -0.0603],\n",
      "        [ 0.0600, -0.0613],\n",
      "        [ 0.0580, -0.0617],\n",
      "        [ 0.0551, -0.0592],\n",
      "        [ 0.0566, -0.0592]], device='cuda:0', grad_fn=<AddmmBackward0>)\n",
      "tensor([0, 0, 0, 0, 0, 0, 0, 0, 0, 0, 0, 0, 0, 0, 0, 0, 0, 0, 0, 0, 0, 0, 0, 0,\n",
      "        0, 0, 0, 0, 0, 0, 0, 0, 0, 0, 0, 0, 0, 0, 0, 0, 0, 0, 0, 0, 0, 0, 0, 0,\n",
      "        0, 0, 0, 0, 0, 0, 0, 0, 0, 0, 0, 0, 0, 0, 0, 0])\n",
      "tensor([0, 0, 0, 1, 0, 0, 1, 1, 1, 0, 1, 1, 1, 0, 1, 0, 0, 0, 1, 0, 1, 1, 1, 0,\n",
      "        1, 1, 0, 0, 0, 1, 0, 0, 1, 1, 0, 0, 0, 1, 1, 0, 1, 0, 0, 0, 1, 0, 0, 1,\n",
      "        0, 0, 0, 0, 0, 0, 0, 1, 0, 0, 1, 0, 0, 0, 0, 1], device='cuda:0')\n",
      "6837\n",
      "12864\n"
     ]
    },
    {
     "name": "stderr",
     "output_type": "stream",
     "text": [
      "iterations: 226it [12:41,  3.37s/it]\n"
     ]
    },
    {
     "ename": "KeyboardInterrupt",
     "evalue": "",
     "output_type": "error",
     "traceback": [
      "\u001b[0;31m---------------------------------------------------------------------------\u001b[0m",
      "\u001b[0;31mKeyboardInterrupt\u001b[0m                         Traceback (most recent call last)",
      "\u001b[0;32m/tmp/ipykernel_44600/1252063527.py\u001b[0m in \u001b[0;36m<module>\u001b[0;34m\u001b[0m\n\u001b[0;32m----> 1\u001b[0;31m \u001b[0mnet\u001b[0m \u001b[0;34m=\u001b[0m \u001b[0mmain\u001b[0m\u001b[0;34m(\u001b[0m\u001b[0;34m)\u001b[0m\u001b[0;34m\u001b[0m\u001b[0;34m\u001b[0m\u001b[0m\n\u001b[0m",
      "\u001b[0;32m/tmp/ipykernel_44600/248770277.py\u001b[0m in \u001b[0;36mmain\u001b[0;34m()\u001b[0m\n\u001b[1;32m     16\u001b[0m         \u001b[0mnum_correct\u001b[0m \u001b[0;34m=\u001b[0m \u001b[0;36m0\u001b[0m\u001b[0;34m\u001b[0m\u001b[0;34m\u001b[0m\u001b[0m\n\u001b[1;32m     17\u001b[0m         \u001b[0mtotal\u001b[0m \u001b[0;34m=\u001b[0m \u001b[0;36m0\u001b[0m\u001b[0;34m\u001b[0m\u001b[0;34m\u001b[0m\u001b[0m\n\u001b[0;32m---> 18\u001b[0;31m         \u001b[0;32mfor\u001b[0m \u001b[0mi\u001b[0m\u001b[0;34m,\u001b[0m \u001b[0mbatch\u001b[0m \u001b[0;32min\u001b[0m \u001b[0mtqdm\u001b[0m\u001b[0;34m(\u001b[0m\u001b[0menumerate\u001b[0m\u001b[0;34m(\u001b[0m\u001b[0mval_iterator\u001b[0m\u001b[0;34m,\u001b[0m \u001b[0;36m0\u001b[0m\u001b[0;34m)\u001b[0m\u001b[0;34m,\u001b[0m \u001b[0mdesc\u001b[0m\u001b[0;34m=\u001b[0m\u001b[0;34m'iterations'\u001b[0m\u001b[0;34m)\u001b[0m\u001b[0;34m:\u001b[0m\u001b[0;34m\u001b[0m\u001b[0;34m\u001b[0m\u001b[0m\n\u001b[0m\u001b[1;32m     19\u001b[0m             \u001b[0minputs\u001b[0m \u001b[0;34m=\u001b[0m \u001b[0mbatch\u001b[0m\u001b[0;34m[\u001b[0m\u001b[0;34m\"multimodal_emb\"\u001b[0m\u001b[0;34m]\u001b[0m\u001b[0;34m.\u001b[0m\u001b[0mto\u001b[0m\u001b[0;34m(\u001b[0m\u001b[0mdevice\u001b[0m\u001b[0;34m)\u001b[0m\u001b[0;34m\u001b[0m\u001b[0;34m\u001b[0m\u001b[0m\n\u001b[1;32m     20\u001b[0m             \u001b[0mlabels\u001b[0m \u001b[0;34m=\u001b[0m \u001b[0mbatch\u001b[0m\u001b[0;34m[\u001b[0m\u001b[0;34m\"label\"\u001b[0m\u001b[0;34m]\u001b[0m\u001b[0;34m.\u001b[0m\u001b[0mto\u001b[0m\u001b[0;34m(\u001b[0m\u001b[0mdevice\u001b[0m\u001b[0;34m)\u001b[0m\u001b[0;34m\u001b[0m\u001b[0;34m\u001b[0m\u001b[0m\n",
      "\u001b[0;32m~/nytimes_project/venv_nyc/lib/python3.7/site-packages/tqdm/std.py\u001b[0m in \u001b[0;36m__iter__\u001b[0;34m(self)\u001b[0m\n\u001b[1;32m   1193\u001b[0m \u001b[0;34m\u001b[0m\u001b[0m\n\u001b[1;32m   1194\u001b[0m         \u001b[0;32mtry\u001b[0m\u001b[0;34m:\u001b[0m\u001b[0;34m\u001b[0m\u001b[0;34m\u001b[0m\u001b[0m\n\u001b[0;32m-> 1195\u001b[0;31m             \u001b[0;32mfor\u001b[0m \u001b[0mobj\u001b[0m \u001b[0;32min\u001b[0m \u001b[0miterable\u001b[0m\u001b[0;34m:\u001b[0m\u001b[0;34m\u001b[0m\u001b[0;34m\u001b[0m\u001b[0m\n\u001b[0m\u001b[1;32m   1196\u001b[0m                 \u001b[0;32myield\u001b[0m \u001b[0mobj\u001b[0m\u001b[0;34m\u001b[0m\u001b[0;34m\u001b[0m\u001b[0m\n\u001b[1;32m   1197\u001b[0m                 \u001b[0;31m# Update and possibly print the progressbar.\u001b[0m\u001b[0;34m\u001b[0m\u001b[0;34m\u001b[0m\u001b[0;34m\u001b[0m\u001b[0m\n",
      "\u001b[0;32m~/nytimes_project/venv_nyc/lib/python3.7/site-packages/torch/utils/data/dataloader.py\u001b[0m in \u001b[0;36m__next__\u001b[0;34m(self)\u001b[0m\n\u001b[1;32m    626\u001b[0m                 \u001b[0;31m# TODO(https://github.com/pytorch/pytorch/issues/76750)\u001b[0m\u001b[0;34m\u001b[0m\u001b[0;34m\u001b[0m\u001b[0;34m\u001b[0m\u001b[0m\n\u001b[1;32m    627\u001b[0m                 \u001b[0mself\u001b[0m\u001b[0;34m.\u001b[0m\u001b[0m_reset\u001b[0m\u001b[0;34m(\u001b[0m\u001b[0;34m)\u001b[0m  \u001b[0;31m# type: ignore[call-arg]\u001b[0m\u001b[0;34m\u001b[0m\u001b[0;34m\u001b[0m\u001b[0m\n\u001b[0;32m--> 628\u001b[0;31m             \u001b[0mdata\u001b[0m \u001b[0;34m=\u001b[0m \u001b[0mself\u001b[0m\u001b[0;34m.\u001b[0m\u001b[0m_next_data\u001b[0m\u001b[0;34m(\u001b[0m\u001b[0;34m)\u001b[0m\u001b[0;34m\u001b[0m\u001b[0;34m\u001b[0m\u001b[0m\n\u001b[0m\u001b[1;32m    629\u001b[0m             \u001b[0mself\u001b[0m\u001b[0;34m.\u001b[0m\u001b[0m_num_yielded\u001b[0m \u001b[0;34m+=\u001b[0m \u001b[0;36m1\u001b[0m\u001b[0;34m\u001b[0m\u001b[0;34m\u001b[0m\u001b[0m\n\u001b[1;32m    630\u001b[0m             \u001b[0;32mif\u001b[0m \u001b[0mself\u001b[0m\u001b[0;34m.\u001b[0m\u001b[0m_dataset_kind\u001b[0m \u001b[0;34m==\u001b[0m \u001b[0m_DatasetKind\u001b[0m\u001b[0;34m.\u001b[0m\u001b[0mIterable\u001b[0m \u001b[0;32mand\u001b[0m\u001b[0;31m \u001b[0m\u001b[0;31m\\\u001b[0m\u001b[0;34m\u001b[0m\u001b[0;34m\u001b[0m\u001b[0m\n",
      "\u001b[0;32m~/nytimes_project/venv_nyc/lib/python3.7/site-packages/torch/utils/data/dataloader.py\u001b[0m in \u001b[0;36m_next_data\u001b[0;34m(self)\u001b[0m\n\u001b[1;32m    669\u001b[0m     \u001b[0;32mdef\u001b[0m \u001b[0m_next_data\u001b[0m\u001b[0;34m(\u001b[0m\u001b[0mself\u001b[0m\u001b[0;34m)\u001b[0m\u001b[0;34m:\u001b[0m\u001b[0;34m\u001b[0m\u001b[0;34m\u001b[0m\u001b[0m\n\u001b[1;32m    670\u001b[0m         \u001b[0mindex\u001b[0m \u001b[0;34m=\u001b[0m \u001b[0mself\u001b[0m\u001b[0;34m.\u001b[0m\u001b[0m_next_index\u001b[0m\u001b[0;34m(\u001b[0m\u001b[0;34m)\u001b[0m  \u001b[0;31m# may raise StopIteration\u001b[0m\u001b[0;34m\u001b[0m\u001b[0;34m\u001b[0m\u001b[0m\n\u001b[0;32m--> 671\u001b[0;31m         \u001b[0mdata\u001b[0m \u001b[0;34m=\u001b[0m \u001b[0mself\u001b[0m\u001b[0;34m.\u001b[0m\u001b[0m_dataset_fetcher\u001b[0m\u001b[0;34m.\u001b[0m\u001b[0mfetch\u001b[0m\u001b[0;34m(\u001b[0m\u001b[0mindex\u001b[0m\u001b[0;34m)\u001b[0m  \u001b[0;31m# may raise StopIteration\u001b[0m\u001b[0;34m\u001b[0m\u001b[0;34m\u001b[0m\u001b[0m\n\u001b[0m\u001b[1;32m    672\u001b[0m         \u001b[0;32mif\u001b[0m \u001b[0mself\u001b[0m\u001b[0;34m.\u001b[0m\u001b[0m_pin_memory\u001b[0m\u001b[0;34m:\u001b[0m\u001b[0;34m\u001b[0m\u001b[0;34m\u001b[0m\u001b[0m\n\u001b[1;32m    673\u001b[0m             \u001b[0mdata\u001b[0m \u001b[0;34m=\u001b[0m \u001b[0m_utils\u001b[0m\u001b[0;34m.\u001b[0m\u001b[0mpin_memory\u001b[0m\u001b[0;34m.\u001b[0m\u001b[0mpin_memory\u001b[0m\u001b[0;34m(\u001b[0m\u001b[0mdata\u001b[0m\u001b[0;34m,\u001b[0m \u001b[0mself\u001b[0m\u001b[0;34m.\u001b[0m\u001b[0m_pin_memory_device\u001b[0m\u001b[0;34m)\u001b[0m\u001b[0;34m\u001b[0m\u001b[0;34m\u001b[0m\u001b[0m\n",
      "\u001b[0;32m~/nytimes_project/venv_nyc/lib/python3.7/site-packages/torch/utils/data/_utils/fetch.py\u001b[0m in \u001b[0;36mfetch\u001b[0;34m(self, possibly_batched_index)\u001b[0m\n\u001b[1;32m     56\u001b[0m                 \u001b[0mdata\u001b[0m \u001b[0;34m=\u001b[0m \u001b[0mself\u001b[0m\u001b[0;34m.\u001b[0m\u001b[0mdataset\u001b[0m\u001b[0;34m.\u001b[0m\u001b[0m__getitems__\u001b[0m\u001b[0;34m(\u001b[0m\u001b[0mpossibly_batched_index\u001b[0m\u001b[0;34m)\u001b[0m\u001b[0;34m\u001b[0m\u001b[0;34m\u001b[0m\u001b[0m\n\u001b[1;32m     57\u001b[0m             \u001b[0;32melse\u001b[0m\u001b[0;34m:\u001b[0m\u001b[0;34m\u001b[0m\u001b[0;34m\u001b[0m\u001b[0m\n\u001b[0;32m---> 58\u001b[0;31m                 \u001b[0mdata\u001b[0m \u001b[0;34m=\u001b[0m \u001b[0;34m[\u001b[0m\u001b[0mself\u001b[0m\u001b[0;34m.\u001b[0m\u001b[0mdataset\u001b[0m\u001b[0;34m[\u001b[0m\u001b[0midx\u001b[0m\u001b[0;34m]\u001b[0m \u001b[0;32mfor\u001b[0m \u001b[0midx\u001b[0m \u001b[0;32min\u001b[0m \u001b[0mpossibly_batched_index\u001b[0m\u001b[0;34m]\u001b[0m\u001b[0;34m\u001b[0m\u001b[0;34m\u001b[0m\u001b[0m\n\u001b[0m\u001b[1;32m     59\u001b[0m         \u001b[0;32melse\u001b[0m\u001b[0;34m:\u001b[0m\u001b[0;34m\u001b[0m\u001b[0;34m\u001b[0m\u001b[0m\n\u001b[1;32m     60\u001b[0m             \u001b[0mdata\u001b[0m \u001b[0;34m=\u001b[0m \u001b[0mself\u001b[0m\u001b[0;34m.\u001b[0m\u001b[0mdataset\u001b[0m\u001b[0;34m[\u001b[0m\u001b[0mpossibly_batched_index\u001b[0m\u001b[0;34m]\u001b[0m\u001b[0;34m\u001b[0m\u001b[0;34m\u001b[0m\u001b[0m\n",
      "\u001b[0;32m~/nytimes_project/venv_nyc/lib/python3.7/site-packages/torch/utils/data/_utils/fetch.py\u001b[0m in \u001b[0;36m<listcomp>\u001b[0;34m(.0)\u001b[0m\n\u001b[1;32m     56\u001b[0m                 \u001b[0mdata\u001b[0m \u001b[0;34m=\u001b[0m \u001b[0mself\u001b[0m\u001b[0;34m.\u001b[0m\u001b[0mdataset\u001b[0m\u001b[0;34m.\u001b[0m\u001b[0m__getitems__\u001b[0m\u001b[0;34m(\u001b[0m\u001b[0mpossibly_batched_index\u001b[0m\u001b[0;34m)\u001b[0m\u001b[0;34m\u001b[0m\u001b[0;34m\u001b[0m\u001b[0m\n\u001b[1;32m     57\u001b[0m             \u001b[0;32melse\u001b[0m\u001b[0;34m:\u001b[0m\u001b[0;34m\u001b[0m\u001b[0;34m\u001b[0m\u001b[0m\n\u001b[0;32m---> 58\u001b[0;31m                 \u001b[0mdata\u001b[0m \u001b[0;34m=\u001b[0m \u001b[0;34m[\u001b[0m\u001b[0mself\u001b[0m\u001b[0;34m.\u001b[0m\u001b[0mdataset\u001b[0m\u001b[0;34m[\u001b[0m\u001b[0midx\u001b[0m\u001b[0;34m]\u001b[0m \u001b[0;32mfor\u001b[0m \u001b[0midx\u001b[0m \u001b[0;32min\u001b[0m \u001b[0mpossibly_batched_index\u001b[0m\u001b[0;34m]\u001b[0m\u001b[0;34m\u001b[0m\u001b[0;34m\u001b[0m\u001b[0m\n\u001b[0m\u001b[1;32m     59\u001b[0m         \u001b[0;32melse\u001b[0m\u001b[0;34m:\u001b[0m\u001b[0;34m\u001b[0m\u001b[0;34m\u001b[0m\u001b[0m\n\u001b[1;32m     60\u001b[0m             \u001b[0mdata\u001b[0m \u001b[0;34m=\u001b[0m \u001b[0mself\u001b[0m\u001b[0;34m.\u001b[0m\u001b[0mdataset\u001b[0m\u001b[0;34m[\u001b[0m\u001b[0mpossibly_batched_index\u001b[0m\u001b[0;34m]\u001b[0m\u001b[0;34m\u001b[0m\u001b[0;34m\u001b[0m\u001b[0m\n",
      "\u001b[0;32m/tmp/ipykernel_44600/2999472275.py\u001b[0m in \u001b[0;36m__getitem__\u001b[0;34m(self, idx)\u001b[0m\n\u001b[1;32m     29\u001b[0m \u001b[0;34m\u001b[0m\u001b[0m\n\u001b[1;32m     30\u001b[0m         \u001b[0mraw_image\u001b[0m \u001b[0;34m=\u001b[0m \u001b[0mImage\u001b[0m\u001b[0;34m.\u001b[0m\u001b[0mopen\u001b[0m\u001b[0;34m(\u001b[0m\u001b[0mos\u001b[0m\u001b[0;34m.\u001b[0m\u001b[0mpath\u001b[0m\u001b[0;34m.\u001b[0m\u001b[0mjoin\u001b[0m\u001b[0;34m(\u001b[0m\u001b[0mself\u001b[0m\u001b[0;34m.\u001b[0m\u001b[0mimg_dir\u001b[0m\u001b[0;34m,\u001b[0m \u001b[0mimg_filename\u001b[0m\u001b[0;34m)\u001b[0m\u001b[0;34m)\u001b[0m\u001b[0;34m.\u001b[0m\u001b[0mconvert\u001b[0m\u001b[0;34m(\u001b[0m\u001b[0;34m'RGB'\u001b[0m\u001b[0;34m)\u001b[0m\u001b[0;34m\u001b[0m\u001b[0;34m\u001b[0m\u001b[0m\n\u001b[0;32m---> 31\u001b[0;31m         \u001b[0mimage\u001b[0m \u001b[0;34m=\u001b[0m \u001b[0mvis_processors\u001b[0m\u001b[0;34m[\u001b[0m\u001b[0;34m\"eval\"\u001b[0m\u001b[0;34m]\u001b[0m\u001b[0;34m(\u001b[0m\u001b[0mraw_image\u001b[0m\u001b[0;34m)\u001b[0m\u001b[0;34m.\u001b[0m\u001b[0munsqueeze\u001b[0m\u001b[0;34m(\u001b[0m\u001b[0;36m0\u001b[0m\u001b[0;34m)\u001b[0m\u001b[0;34m.\u001b[0m\u001b[0mto\u001b[0m\u001b[0;34m(\u001b[0m\u001b[0mdevice\u001b[0m\u001b[0;34m)\u001b[0m\u001b[0;34m\u001b[0m\u001b[0;34m\u001b[0m\u001b[0m\n\u001b[0m\u001b[1;32m     32\u001b[0m         \u001b[0mtext_input\u001b[0m \u001b[0;34m=\u001b[0m \u001b[0mtxt_processors\u001b[0m\u001b[0;34m[\u001b[0m\u001b[0;34m\"eval\"\u001b[0m\u001b[0;34m]\u001b[0m\u001b[0;34m(\u001b[0m\u001b[0mcaption\u001b[0m\u001b[0;34m)\u001b[0m\u001b[0;34m\u001b[0m\u001b[0;34m\u001b[0m\u001b[0m\n\u001b[1;32m     33\u001b[0m         \u001b[0msample\u001b[0m \u001b[0;34m=\u001b[0m \u001b[0;34m{\u001b[0m\u001b[0;34m\"image\"\u001b[0m\u001b[0;34m:\u001b[0m \u001b[0mimage\u001b[0m\u001b[0;34m,\u001b[0m \u001b[0;34m\"text_input\"\u001b[0m\u001b[0;34m:\u001b[0m \u001b[0;34m[\u001b[0m\u001b[0mtext_input\u001b[0m\u001b[0;34m]\u001b[0m\u001b[0;34m}\u001b[0m   \u001b[0;31m# image shape: [1, 3, 224, 224]\u001b[0m\u001b[0;34m\u001b[0m\u001b[0;34m\u001b[0m\u001b[0m\n",
      "\u001b[0;32m~/nytimes_project/venv_nyc/lib/python3.7/site-packages/lavis/processors/blip_processors.py\u001b[0m in \u001b[0;36m__call__\u001b[0;34m(self, item)\u001b[0m\n\u001b[1;32m    180\u001b[0m \u001b[0;34m\u001b[0m\u001b[0m\n\u001b[1;32m    181\u001b[0m     \u001b[0;32mdef\u001b[0m \u001b[0m__call__\u001b[0m\u001b[0;34m(\u001b[0m\u001b[0mself\u001b[0m\u001b[0;34m,\u001b[0m \u001b[0mitem\u001b[0m\u001b[0;34m)\u001b[0m\u001b[0;34m:\u001b[0m\u001b[0;34m\u001b[0m\u001b[0;34m\u001b[0m\u001b[0m\n\u001b[0;32m--> 182\u001b[0;31m         \u001b[0;32mreturn\u001b[0m \u001b[0mself\u001b[0m\u001b[0;34m.\u001b[0m\u001b[0mtransform\u001b[0m\u001b[0;34m(\u001b[0m\u001b[0mitem\u001b[0m\u001b[0;34m)\u001b[0m\u001b[0;34m\u001b[0m\u001b[0;34m\u001b[0m\u001b[0m\n\u001b[0m\u001b[1;32m    183\u001b[0m \u001b[0;34m\u001b[0m\u001b[0m\n\u001b[1;32m    184\u001b[0m     \u001b[0;34m@\u001b[0m\u001b[0mclassmethod\u001b[0m\u001b[0;34m\u001b[0m\u001b[0;34m\u001b[0m\u001b[0m\n",
      "\u001b[0;32m~/nytimes_project/venv_nyc/lib/python3.7/site-packages/torchvision/transforms/transforms.py\u001b[0m in \u001b[0;36m__call__\u001b[0;34m(self, img)\u001b[0m\n\u001b[1;32m     93\u001b[0m     \u001b[0;32mdef\u001b[0m \u001b[0m__call__\u001b[0m\u001b[0;34m(\u001b[0m\u001b[0mself\u001b[0m\u001b[0;34m,\u001b[0m \u001b[0mimg\u001b[0m\u001b[0;34m)\u001b[0m\u001b[0;34m:\u001b[0m\u001b[0;34m\u001b[0m\u001b[0;34m\u001b[0m\u001b[0m\n\u001b[1;32m     94\u001b[0m         \u001b[0;32mfor\u001b[0m \u001b[0mt\u001b[0m \u001b[0;32min\u001b[0m \u001b[0mself\u001b[0m\u001b[0;34m.\u001b[0m\u001b[0mtransforms\u001b[0m\u001b[0;34m:\u001b[0m\u001b[0;34m\u001b[0m\u001b[0;34m\u001b[0m\u001b[0m\n\u001b[0;32m---> 95\u001b[0;31m             \u001b[0mimg\u001b[0m \u001b[0;34m=\u001b[0m \u001b[0mt\u001b[0m\u001b[0;34m(\u001b[0m\u001b[0mimg\u001b[0m\u001b[0;34m)\u001b[0m\u001b[0;34m\u001b[0m\u001b[0;34m\u001b[0m\u001b[0m\n\u001b[0m\u001b[1;32m     96\u001b[0m         \u001b[0;32mreturn\u001b[0m \u001b[0mimg\u001b[0m\u001b[0;34m\u001b[0m\u001b[0;34m\u001b[0m\u001b[0m\n\u001b[1;32m     97\u001b[0m \u001b[0;34m\u001b[0m\u001b[0m\n",
      "\u001b[0;32m~/nytimes_project/venv_nyc/lib/python3.7/site-packages/torch/nn/modules/module.py\u001b[0m in \u001b[0;36m_call_impl\u001b[0;34m(self, *input, **kwargs)\u001b[0m\n\u001b[1;32m   1192\u001b[0m         if not (self._backward_hooks or self._forward_hooks or self._forward_pre_hooks or _global_backward_hooks\n\u001b[1;32m   1193\u001b[0m                 or _global_forward_hooks or _global_forward_pre_hooks):\n\u001b[0;32m-> 1194\u001b[0;31m             \u001b[0;32mreturn\u001b[0m \u001b[0mforward_call\u001b[0m\u001b[0;34m(\u001b[0m\u001b[0;34m*\u001b[0m\u001b[0minput\u001b[0m\u001b[0;34m,\u001b[0m \u001b[0;34m**\u001b[0m\u001b[0mkwargs\u001b[0m\u001b[0;34m)\u001b[0m\u001b[0;34m\u001b[0m\u001b[0;34m\u001b[0m\u001b[0m\n\u001b[0m\u001b[1;32m   1195\u001b[0m         \u001b[0;31m# Do not call functions when jit is used\u001b[0m\u001b[0;34m\u001b[0m\u001b[0;34m\u001b[0m\u001b[0;34m\u001b[0m\u001b[0m\n\u001b[1;32m   1196\u001b[0m         \u001b[0mfull_backward_hooks\u001b[0m\u001b[0;34m,\u001b[0m \u001b[0mnon_full_backward_hooks\u001b[0m \u001b[0;34m=\u001b[0m \u001b[0;34m[\u001b[0m\u001b[0;34m]\u001b[0m\u001b[0;34m,\u001b[0m \u001b[0;34m[\u001b[0m\u001b[0;34m]\u001b[0m\u001b[0;34m\u001b[0m\u001b[0;34m\u001b[0m\u001b[0m\n",
      "\u001b[0;32m~/nytimes_project/venv_nyc/lib/python3.7/site-packages/torchvision/transforms/transforms.py\u001b[0m in \u001b[0;36mforward\u001b[0;34m(self, img)\u001b[0m\n\u001b[1;32m    344\u001b[0m             \u001b[0mPIL\u001b[0m \u001b[0mImage\u001b[0m \u001b[0;32mor\u001b[0m \u001b[0mTensor\u001b[0m\u001b[0;34m:\u001b[0m \u001b[0mRescaled\u001b[0m \u001b[0mimage\u001b[0m\u001b[0;34m.\u001b[0m\u001b[0;34m\u001b[0m\u001b[0;34m\u001b[0m\u001b[0m\n\u001b[1;32m    345\u001b[0m         \"\"\"\n\u001b[0;32m--> 346\u001b[0;31m         \u001b[0;32mreturn\u001b[0m \u001b[0mF\u001b[0m\u001b[0;34m.\u001b[0m\u001b[0mresize\u001b[0m\u001b[0;34m(\u001b[0m\u001b[0mimg\u001b[0m\u001b[0;34m,\u001b[0m \u001b[0mself\u001b[0m\u001b[0;34m.\u001b[0m\u001b[0msize\u001b[0m\u001b[0;34m,\u001b[0m \u001b[0mself\u001b[0m\u001b[0;34m.\u001b[0m\u001b[0minterpolation\u001b[0m\u001b[0;34m,\u001b[0m \u001b[0mself\u001b[0m\u001b[0;34m.\u001b[0m\u001b[0mmax_size\u001b[0m\u001b[0;34m,\u001b[0m \u001b[0mself\u001b[0m\u001b[0;34m.\u001b[0m\u001b[0mantialias\u001b[0m\u001b[0;34m)\u001b[0m\u001b[0;34m\u001b[0m\u001b[0;34m\u001b[0m\u001b[0m\n\u001b[0m\u001b[1;32m    347\u001b[0m \u001b[0;34m\u001b[0m\u001b[0m\n\u001b[1;32m    348\u001b[0m     \u001b[0;32mdef\u001b[0m \u001b[0m__repr__\u001b[0m\u001b[0;34m(\u001b[0m\u001b[0mself\u001b[0m\u001b[0;34m)\u001b[0m \u001b[0;34m->\u001b[0m \u001b[0mstr\u001b[0m\u001b[0;34m:\u001b[0m\u001b[0;34m\u001b[0m\u001b[0;34m\u001b[0m\u001b[0m\n",
      "\u001b[0;32m~/nytimes_project/venv_nyc/lib/python3.7/site-packages/torchvision/transforms/functional.py\u001b[0m in \u001b[0;36mresize\u001b[0;34m(img, size, interpolation, max_size, antialias)\u001b[0m\n\u001b[1;32m    472\u001b[0m             \u001b[0mwarnings\u001b[0m\u001b[0;34m.\u001b[0m\u001b[0mwarn\u001b[0m\u001b[0;34m(\u001b[0m\u001b[0;34m\"Anti-alias option is always applied for PIL Image input. Argument antialias is ignored.\"\u001b[0m\u001b[0;34m)\u001b[0m\u001b[0;34m\u001b[0m\u001b[0;34m\u001b[0m\u001b[0m\n\u001b[1;32m    473\u001b[0m         \u001b[0mpil_interpolation\u001b[0m \u001b[0;34m=\u001b[0m \u001b[0mpil_modes_mapping\u001b[0m\u001b[0;34m[\u001b[0m\u001b[0minterpolation\u001b[0m\u001b[0;34m]\u001b[0m\u001b[0;34m\u001b[0m\u001b[0;34m\u001b[0m\u001b[0m\n\u001b[0;32m--> 474\u001b[0;31m         \u001b[0;32mreturn\u001b[0m \u001b[0mF_pil\u001b[0m\u001b[0;34m.\u001b[0m\u001b[0mresize\u001b[0m\u001b[0;34m(\u001b[0m\u001b[0mimg\u001b[0m\u001b[0;34m,\u001b[0m \u001b[0msize\u001b[0m\u001b[0;34m=\u001b[0m\u001b[0moutput_size\u001b[0m\u001b[0;34m,\u001b[0m \u001b[0minterpolation\u001b[0m\u001b[0;34m=\u001b[0m\u001b[0mpil_interpolation\u001b[0m\u001b[0;34m)\u001b[0m\u001b[0;34m\u001b[0m\u001b[0;34m\u001b[0m\u001b[0m\n\u001b[0m\u001b[1;32m    475\u001b[0m \u001b[0;34m\u001b[0m\u001b[0m\n\u001b[1;32m    476\u001b[0m     \u001b[0;32mreturn\u001b[0m \u001b[0mF_t\u001b[0m\u001b[0;34m.\u001b[0m\u001b[0mresize\u001b[0m\u001b[0;34m(\u001b[0m\u001b[0mimg\u001b[0m\u001b[0;34m,\u001b[0m \u001b[0msize\u001b[0m\u001b[0;34m=\u001b[0m\u001b[0moutput_size\u001b[0m\u001b[0;34m,\u001b[0m \u001b[0minterpolation\u001b[0m\u001b[0;34m=\u001b[0m\u001b[0minterpolation\u001b[0m\u001b[0;34m.\u001b[0m\u001b[0mvalue\u001b[0m\u001b[0;34m,\u001b[0m \u001b[0mantialias\u001b[0m\u001b[0;34m=\u001b[0m\u001b[0mantialias\u001b[0m\u001b[0;34m)\u001b[0m\u001b[0;34m\u001b[0m\u001b[0;34m\u001b[0m\u001b[0m\n",
      "\u001b[0;32m~/nytimes_project/venv_nyc/lib/python3.7/site-packages/torchvision/transforms/functional_pil.py\u001b[0m in \u001b[0;36mresize\u001b[0;34m(img, size, interpolation)\u001b[0m\n\u001b[1;32m    250\u001b[0m         \u001b[0;32mraise\u001b[0m \u001b[0mTypeError\u001b[0m\u001b[0;34m(\u001b[0m\u001b[0;34mf\"Got inappropriate size arg: {size}\"\u001b[0m\u001b[0;34m)\u001b[0m\u001b[0;34m\u001b[0m\u001b[0;34m\u001b[0m\u001b[0m\n\u001b[1;32m    251\u001b[0m \u001b[0;34m\u001b[0m\u001b[0m\n\u001b[0;32m--> 252\u001b[0;31m     \u001b[0;32mreturn\u001b[0m \u001b[0mimg\u001b[0m\u001b[0;34m.\u001b[0m\u001b[0mresize\u001b[0m\u001b[0;34m(\u001b[0m\u001b[0mtuple\u001b[0m\u001b[0;34m(\u001b[0m\u001b[0msize\u001b[0m\u001b[0;34m[\u001b[0m\u001b[0;34m:\u001b[0m\u001b[0;34m:\u001b[0m\u001b[0;34m-\u001b[0m\u001b[0;36m1\u001b[0m\u001b[0;34m]\u001b[0m\u001b[0;34m)\u001b[0m\u001b[0;34m,\u001b[0m \u001b[0minterpolation\u001b[0m\u001b[0;34m)\u001b[0m\u001b[0;34m\u001b[0m\u001b[0;34m\u001b[0m\u001b[0m\n\u001b[0m\u001b[1;32m    253\u001b[0m \u001b[0;34m\u001b[0m\u001b[0m\n\u001b[1;32m    254\u001b[0m \u001b[0;34m\u001b[0m\u001b[0m\n",
      "\u001b[0;32m~/nytimes_project/venv_nyc/lib/python3.7/site-packages/PIL/Image.py\u001b[0m in \u001b[0;36mresize\u001b[0;34m(self, size, resample, box, reducing_gap)\u001b[0m\n\u001b[1;32m   2190\u001b[0m                 )\n\u001b[1;32m   2191\u001b[0m \u001b[0;34m\u001b[0m\u001b[0m\n\u001b[0;32m-> 2192\u001b[0;31m         \u001b[0;32mreturn\u001b[0m \u001b[0mself\u001b[0m\u001b[0;34m.\u001b[0m\u001b[0m_new\u001b[0m\u001b[0;34m(\u001b[0m\u001b[0mself\u001b[0m\u001b[0;34m.\u001b[0m\u001b[0mim\u001b[0m\u001b[0;34m.\u001b[0m\u001b[0mresize\u001b[0m\u001b[0;34m(\u001b[0m\u001b[0msize\u001b[0m\u001b[0;34m,\u001b[0m \u001b[0mresample\u001b[0m\u001b[0;34m,\u001b[0m \u001b[0mbox\u001b[0m\u001b[0;34m)\u001b[0m\u001b[0;34m)\u001b[0m\u001b[0;34m\u001b[0m\u001b[0;34m\u001b[0m\u001b[0m\n\u001b[0m\u001b[1;32m   2193\u001b[0m \u001b[0;34m\u001b[0m\u001b[0m\n\u001b[1;32m   2194\u001b[0m     \u001b[0;32mdef\u001b[0m \u001b[0mreduce\u001b[0m\u001b[0;34m(\u001b[0m\u001b[0mself\u001b[0m\u001b[0;34m,\u001b[0m \u001b[0mfactor\u001b[0m\u001b[0;34m,\u001b[0m \u001b[0mbox\u001b[0m\u001b[0;34m=\u001b[0m\u001b[0;32mNone\u001b[0m\u001b[0;34m)\u001b[0m\u001b[0;34m:\u001b[0m\u001b[0;34m\u001b[0m\u001b[0;34m\u001b[0m\u001b[0m\n",
      "\u001b[0;31mKeyboardInterrupt\u001b[0m: "
     ]
    }
   ],
   "source": [
    "net = main()"
   ]
  },
  {
   "cell_type": "markdown",
   "id": "04932705",
   "metadata": {},
   "source": [
    "# Playground"
   ]
  },
  {
   "cell_type": "code",
   "execution_count": null,
   "id": "dd0f7c01",
   "metadata": {},
   "outputs": [],
   "source": [
    "val_df = pd.read_csv('../data/val_completed.csv', index_col=0)\n",
    "val_df"
   ]
  },
  {
   "cell_type": "code",
   "execution_count": null,
   "id": "118efe42",
   "metadata": {},
   "outputs": [],
   "source": [
    "img_dir = '/import/network-temp/yimengg/data/twitter-comms/images/val_images/val_tweet_image_ids'\n",
    "val_df['exists'] = val_df['filename'].apply(lambda filename: os.path.exists(os.path.join(img_dir, filename)))"
   ]
  },
  {
   "cell_type": "code",
   "execution_count": null,
   "id": "6ccfd647",
   "metadata": {},
   "outputs": [],
   "source": [
    "delete_row = val_df[val_df[\"exists\"]==False].index"
   ]
  },
  {
   "cell_type": "code",
   "execution_count": null,
   "id": "7328adc3",
   "metadata": {},
   "outputs": [],
   "source": [
    "val_df = val_df.drop(delete_row)"
   ]
  },
  {
   "cell_type": "code",
   "execution_count": null,
   "id": "672ba98f",
   "metadata": {},
   "outputs": [],
   "source": [
    "val_df"
   ]
  },
  {
   "cell_type": "code",
   "execution_count": null,
   "id": "150de95a",
   "metadata": {},
   "outputs": [],
   "source": []
  }
 ],
 "metadata": {
  "kernelspec": {
   "display_name": "Python 3 (ipykernel)",
   "language": "python",
   "name": "python3"
  },
  "language_info": {
   "codemirror_mode": {
    "name": "ipython",
    "version": 3
   },
   "file_extension": ".py",
   "mimetype": "text/x-python",
   "name": "python",
   "nbconvert_exporter": "python",
   "pygments_lexer": "ipython3",
   "version": "3.7.7"
  }
 },
 "nbformat": 4,
 "nbformat_minor": 5
}
